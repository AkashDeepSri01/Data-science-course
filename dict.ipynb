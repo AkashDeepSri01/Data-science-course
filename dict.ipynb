{
 "cells": [
  {
   "cell_type": "code",
   "execution_count": 11,
   "metadata": {},
   "outputs": [],
   "source": [
    "book={\n",
    "    'title': 'The Final Empire',\n",
    "    'author': 'Brandon Sandeson',\n",
    "    'price': 1499,\n",
    "    'publisher': 'Tor Books',\n",
    "    'year': 2006,\n",
    "    'pages': 541,\n",
    "    'languages': ['english','french','spanish']\n",
    "}"
   ]
  },
  {
   "cell_type": "code",
   "execution_count": 12,
   "metadata": {},
   "outputs": [
    {
     "name": "stdout",
     "output_type": "stream",
     "text": [
      "{'title': 'The Final Empire', 'author': 'Brandon Sandeson', 'price': 1499, 'publisher': 'Tor Books', 'year': 2006, 'pages': 541, 'languages': ['english', 'french', 'spanish'], 'rating': 4.9, 'type': 'paperback'}\n",
      "{'title': 'The Final Empire', 'author': 'Brandon Sandeson', 'price': 1499, 'publisher': 'Tor Books', 'year': 2006, 'pages': 541, 'languages': ['english', 'french', 'spanish'], 'rating': 4.9, 'type': 'paperback'}\n"
     ]
    }
   ],
   "source": [
    "book['rating']=4.9\n",
    "book['type']='paperback'\n",
    "print(book)\n",
    "print(book)"
   ]
  },
  {
   "cell_type": "code",
   "execution_count": 13,
   "metadata": {},
   "outputs": [
    {
     "data": {
      "text/plain": [
       "541"
      ]
     },
     "execution_count": 13,
     "metadata": {},
     "output_type": "execute_result"
    }
   ],
   "source": [
    "book['pages']"
   ]
  },
  {
   "cell_type": "code",
   "execution_count": 14,
   "metadata": {},
   "outputs": [
    {
     "data": {
      "text/plain": [
       "541"
      ]
     },
     "execution_count": 14,
     "metadata": {},
     "output_type": "execute_result"
    }
   ],
   "source": [
    "book.pop('pages')"
   ]
  },
  {
   "cell_type": "code",
   "execution_count": 15,
   "metadata": {},
   "outputs": [
    {
     "name": "stdout",
     "output_type": "stream",
     "text": [
      "{'title': 'The Final Empire', 'author': 'Brandon Sandeson', 'price': 1499, 'publisher': 'Tor Books', 'year': 2006, 'languages': ['english', 'french', 'spanish'], 'rating': 4.9, 'type': 'paperback'}\n"
     ]
    }
   ],
   "source": [
    "print(book)"
   ]
  },
  {
   "cell_type": "code",
   "execution_count": 16,
   "metadata": {},
   "outputs": [
    {
     "data": {
      "text/plain": [
       "['title',\n",
       " 'author',\n",
       " 'price',\n",
       " 'publisher',\n",
       " 'year',\n",
       " 'languages',\n",
       " 'rating',\n",
       " 'type']"
      ]
     },
     "execution_count": 16,
     "metadata": {},
     "output_type": "execute_result"
    }
   ],
   "source": [
    "list(book.keys())"
   ]
  },
  {
   "cell_type": "code",
   "execution_count": 17,
   "metadata": {},
   "outputs": [
    {
     "data": {
      "text/plain": [
       "['The Final Empire',\n",
       " 'Brandon Sandeson',\n",
       " 1499,\n",
       " 'Tor Books',\n",
       " 2006,\n",
       " ['english', 'french', 'spanish'],\n",
       " 4.9,\n",
       " 'paperback']"
      ]
     },
     "execution_count": 17,
     "metadata": {},
     "output_type": "execute_result"
    }
   ],
   "source": [
    "list(book.values())"
   ]
  },
  {
   "cell_type": "code",
   "execution_count": 18,
   "metadata": {},
   "outputs": [
    {
     "data": {
      "text/plain": [
       "[('title', 'The Final Empire'),\n",
       " ('author', 'Brandon Sandeson'),\n",
       " ('price', 1499),\n",
       " ('publisher', 'Tor Books'),\n",
       " ('year', 2006),\n",
       " ('languages', ['english', 'french', 'spanish']),\n",
       " ('rating', 4.9),\n",
       " ('type', 'paperback')]"
      ]
     },
     "execution_count": 18,
     "metadata": {},
     "output_type": "execute_result"
    }
   ],
   "source": [
    "list(book.items())"
   ]
  },
  {
   "cell_type": "code",
   "execution_count": 21,
   "metadata": {},
   "outputs": [
    {
     "name": "stdout",
     "output_type": "stream",
     "text": [
      "Tor Books\n"
     ]
    },
    {
     "data": {
      "text/plain": [
       "'not found'"
      ]
     },
     "execution_count": 21,
     "metadata": {},
     "output_type": "execute_result"
    }
   ],
   "source": [
    "print(book.get('publisher'))\n",
    "(book.get('jsdsjkdb','not found'))"
   ]
  },
  {
   "cell_type": "code",
   "execution_count": 22,
   "metadata": {},
   "outputs": [
    {
     "name": "stdout",
     "output_type": "stream",
     "text": [
      "{'inception': 9.8, 'godzilla': 8.1, 'wonder woman': 8.9}\n"
     ]
    }
   ],
   "source": [
    "myrating={}\n",
    "for i in range(1,4):\n",
    "    name=input(f'inter the name of movie{i}: ')\n",
    "    rating=float(input(f'enter the rating of movie{i}: '))\n",
    "    myrating[name]=rating\n",
    "print(myrating)    "
   ]
  },
  {
   "cell_type": "code",
   "execution_count": 25,
   "metadata": {},
   "outputs": [
    {
     "name": "stdout",
     "output_type": "stream",
     "text": [
      "inception\n",
      "godzilla\n",
      "wonder woman\n",
      "------------------------------\n",
      "inception 9.8\n",
      "godzilla 8.1\n",
      "wonder woman 8.9\n",
      "------------------------------\n",
      "inception 9.8\n",
      "godzilla 8.1\n",
      "wonder woman 8.9\n"
     ]
    }
   ],
   "source": [
    "for i in myrating:\n",
    "    print(i)#only keys\n",
    "\n",
    "print('---'*10)\n",
    "for i in myrating:\n",
    "    print(i,myrating[i])#only values\n",
    "\n",
    "print('---'*10)\n",
    "for k,v in myrating.items():\n",
    "    print(k,v)#both key and values        "
   ]
  },
  {
   "cell_type": "code",
   "execution_count": 34,
   "metadata": {},
   "outputs": [],
   "source": [
    "books={\n",
    "    'book1':{\n",
    "        'title':'The final empire',\n",
    "        'author': 'Brandon sanderson',\n",
    "        'price': 1499,\n",
    "    },\n",
    "    'book2': {\n",
    "        'title': 'the well of ascension',\n",
    "        'author': 'brandon sanderson',\n",
    "        'price': 1699,\n",
    "        'publisher': 'tor book',\n",
    "\n",
    "\n",
    "    },\n",
    "    'book3': {\n",
    "        'title': 'the hero of ages',\n",
    "        'author': 'brandon sanderson',\n",
    "        'price': 1799\n",
    "    }\n",
    "}"
   ]
  },
  {
   "cell_type": "code",
   "execution_count": 35,
   "metadata": {},
   "outputs": [
    {
     "name": "stdout",
     "output_type": "stream",
     "text": [
      "book1\n",
      "\ttitle=The final empire\n",
      "\tauthor=Brandon sanderson\n",
      "\tprice=1499\n",
      "book2\n",
      "\ttitle=the well of ascension\n",
      "\tauthor=brandon sanderson\n",
      "\tprice=1699\n",
      "\tpublisher=tor book\n",
      "book3\n",
      "\ttitle=the hero of ages\n",
      "\tauthor=brandon sanderson\n",
      "\tprice=1799\n"
     ]
    }
   ],
   "source": [
    "for name,detail in books.items():\n",
    "    print(name)\n",
    "    for k,v in detail.items():\n",
    "        print(f'\\t{k}={v}')"
   ]
  },
  {
   "cell_type": "code",
   "execution_count": 37,
   "metadata": {},
   "outputs": [
    {
     "name": "stdout",
     "output_type": "stream",
     "text": [
      "book2 {'title': 'the well of ascension', 'author': 'brandon sanderson', 'price': 1699, 'publisher': 'tor book'}\n"
     ]
    }
   ],
   "source": [
    "query='the well '\n",
    "for name, detail in books.items():\n",
    "    if query in detail['title']:\n",
    "        print(name,detail)"
   ]
  },
  {
   "cell_type": "code",
   "execution_count": 40,
   "metadata": {},
   "outputs": [
    {
     "name": "stdout",
     "output_type": "stream",
     "text": [
      "Dictionary: {1: 1, 2: 4}\n"
     ]
    }
   ],
   "source": [
    "squares = {}\n",
    "n = int(input(\"Enter the number of elements: \"))\n",
    "for i in range(n):\n",
    "    num = int(input(\"Enter a number: \"))\n",
    "    square = num ** 2\n",
    "    squares[num] = square\n",
    "print(\"Dictionary:\", squares)\n"
   ]
  },
  {
   "cell_type": "code",
   "execution_count": 54,
   "metadata": {},
   "outputs": [
    {
     "name": "stdout",
     "output_type": "stream",
     "text": [
      "{'mobile': 140000, 'h24': 100000000, 'bmw': 660000000000}\n"
     ]
    }
   ],
   "source": [
    "items={}\n",
    "while True:\n",
    "    item=input('enter name')\n",
    "    if not item:\n",
    "        break\n",
    "    price=int(input('enter price:'))\n",
    "    items[item]=price\n",
    "print(items)\n",
    "\n",
    "\n"
   ]
  },
  {
   "cell_type": "code",
   "execution_count": null,
   "metadata": {},
   "outputs": [],
   "source": []
  }
 ],
 "metadata": {
  "kernelspec": {
   "display_name": "Python 3",
   "language": "python",
   "name": "python3"
  },
  "language_info": {
   "codemirror_mode": {
    "name": "ipython",
    "version": 3
   },
   "file_extension": ".py",
   "mimetype": "text/x-python",
   "name": "python",
   "nbconvert_exporter": "python",
   "pygments_lexer": "ipython3",
   "version": "3.10.11"
  },
  "orig_nbformat": 4
 },
 "nbformat": 4,
 "nbformat_minor": 2
}
