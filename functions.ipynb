{
 "cells": [
  {
   "cell_type": "markdown",
   "metadata": {},
   "source": [
    "syntax\n",
    "'''\n",
    "def fun_name([parameter]):\n",
    "     statement1\n",
    "     statement2\n",
    "     '''\n",
    "     statementn\n",
    "     [return_expression]\n",
    "\n",
    "'''\n",
    "example\n",
    "\n",
    "def area(width,height):\n",
    "     a=width*height\n",
    "     return a"
   ]
  },
  {
   "cell_type": "markdown",
   "metadata": {},
   "source": [
    " Functions\n",
    " -based on parameter and return value\n",
    "   1. no parameter,no return value\n",
    "   2. no parameter ,return value\n",
    "   3. parameter ,no return value\n",
    "   4. parameter ,return value\n",
    "-based on parameter type\n",
    "   1. required parameter\n",
    "   2. keyword parameter\n",
    "   3. default parameter\n",
    "   4. variable length parameter(*args)\n",
    "   5. variable length keyworded parameters(**kwargs)\n",
    "-other types of function\n",
    "   . lambda functon\n",
    "   . generator function\n",
    "   . recursive function "
   ]
  },
  {
   "cell_type": "code",
   "execution_count": 2,
   "metadata": {},
   "outputs": [],
   "source": [
    "#value returning function\n",
    "def area ():\n",
    "    l=int(input('enter l= '))\n",
    "    b=int(input('enter b= '))\n",
    "    return (l*b)"
   ]
  },
  {
   "cell_type": "code",
   "execution_count": 3,
   "metadata": {},
   "outputs": [
    {
     "name": "stdout",
     "output_type": "stream",
     "text": [
      "area is 56088\n"
     ]
    }
   ],
   "source": [
    "ans=area()\n",
    "print(f'area is {ans}')"
   ]
  },
  {
   "cell_type": "code",
   "execution_count": 9,
   "metadata": {},
   "outputs": [],
   "source": [
    "def math():\n",
    "    p=int(input('Enter the princple: '))\n",
    "    r=int(input(\"Enter the rate: \"))\n",
    "    t=int(input(\"Enter time time: \"))\n",
    "    si=p*r*t/100\n",
    "    amt=p+si\n",
    "    return si,amt"
   ]
  },
  {
   "cell_type": "code",
   "execution_count": 10,
   "metadata": {},
   "outputs": [
    {
     "name": "stdout",
     "output_type": "stream",
     "text": [
      "si 844442.64\n",
      "amt 3190116.64\n"
     ]
    }
   ],
   "source": [
    "result=math()\n",
    "print('si', result[0])\n",
    "print('amt',result[1])"
   ]
  },
  {
   "cell_type": "code",
   "execution_count": 11,
   "metadata": {},
   "outputs": [
    {
     "name": "stdout",
     "output_type": "stream",
     "text": [
      "1244897.0 2489794.0\n"
     ]
    }
   ],
   "source": [
    "si,amount=math()\n",
    "print(si,amount)"
   ]
  },
  {
   "cell_type": "code",
   "execution_count": 26,
   "metadata": {},
   "outputs": [],
   "source": [
    "def is_armstrong(number):\n",
    "    t=number\n",
    "    s=0#sum\n",
    "    pow=len(str(number))\n",
    "    while number>0:\n",
    "        r=number%10\n",
    "        s+=r**pow\n",
    "        number//=10\n",
    "    return t==s    "
   ]
  },
  {
   "cell_type": "code",
   "execution_count": 27,
   "metadata": {},
   "outputs": [
    {
     "name": "stdout",
     "output_type": "stream",
     "text": [
      "False\n"
     ]
    }
   ],
   "source": [
    "x=int(input('enter a number'))\n",
    "print(is_armstrong(x))"
   ]
  },
  {
   "cell_type": "code",
   "execution_count": 28,
   "metadata": {},
   "outputs": [
    {
     "name": "stdout",
     "output_type": "stream",
     "text": [
      "153\n",
      "370\n",
      "371\n",
      "407\n",
      "1634\n",
      "8208\n",
      "9474\n"
     ]
    }
   ],
   "source": [
    "for i in range(100,9999):\n",
    "    if is_armstrong(i):\n",
    "        print(i)\n"
   ]
  },
  {
   "cell_type": "code",
   "execution_count": 19,
   "metadata": {},
   "outputs": [],
   "source": [
    "def adder(a,b,c):\n",
    "    return a+b+c"
   ]
  },
  {
   "cell_type": "code",
   "execution_count": 20,
   "metadata": {},
   "outputs": [
    {
     "name": "stdout",
     "output_type": "stream",
     "text": [
      "19\n"
     ]
    }
   ],
   "source": [
    "print(adder(4,6,9))"
   ]
  },
  {
   "cell_type": "code",
   "execution_count": 22,
   "metadata": {},
   "outputs": [
    {
     "name": "stdout",
     "output_type": "stream",
     "text": [
      "54\n",
      "40\n",
      "70\n",
      "50\n"
     ]
    }
   ],
   "source": [
    "print(adder(a=10,b=40,c=4))\n",
    "print(adder(b=10,c=20,a=10))\n",
    "print(adder(10,b=20,c=40))\n",
    "print(adder(10,20,c=20))"
   ]
  },
  {
   "cell_type": "code",
   "execution_count": 30,
   "metadata": {},
   "outputs": [],
   "source": [
    "def multiplier(a,b,c=1):\n",
    "    return a*b*c"
   ]
  },
  {
   "cell_type": "code",
   "execution_count": 32,
   "metadata": {},
   "outputs": [
    {
     "name": "stdout",
     "output_type": "stream",
     "text": [
      "6\n",
      "60\n",
      "12\n"
     ]
    }
   ],
   "source": [
    "print(multiplier(2,3))\n",
    "print(multiplier(2,3,10))\n",
    "print(multiplier(2,3,c=2))"
   ]
  },
  {
   "cell_type": "code",
   "execution_count": 34,
   "metadata": {},
   "outputs": [],
   "source": [
    "from string import punctuation\n",
    "def cleaner(data, chars=None):\n",
    "    if chars is None:\n",
    "        chars = punctuation\n",
    "    for c in chars:\n",
    "        data = data.replace(c, '')\n",
    "    return data        "
   ]
  },
  {
   "cell_type": "code",
   "execution_count": 35,
   "metadata": {},
   "outputs": [
    {
     "data": {
      "text/plain": [
       "'hello'"
      ]
     },
     "execution_count": 35,
     "metadata": {},
     "output_type": "execute_result"
    }
   ],
   "source": [
    "cleaner('h#$@@@e(&&*^^l^l*&%o')"
   ]
  },
  {
   "cell_type": "code",
   "execution_count": 36,
   "metadata": {},
   "outputs": [],
   "source": [
    "def multiplier(*nums):\n",
    "    result=1\n",
    "    for num in nums:\n",
    "        result *=num\n",
    "    return result    "
   ]
  },
  {
   "cell_type": "code",
   "execution_count": 41,
   "metadata": {},
   "outputs": [
    {
     "name": "stdout",
     "output_type": "stream",
     "text": [
      "1\n",
      "2\n",
      "8640\n"
     ]
    }
   ],
   "source": [
    "print(multiplier())\n",
    "print(multiplier(2))\n",
    "print(multiplier(2,3,4,5,6,12))\n"
   ]
  },
  {
   "cell_type": "code",
   "execution_count": 44,
   "metadata": {},
   "outputs": [],
   "source": [
    "def aggregator(*x,action='sum'):\n",
    "    if action =='sum':\n",
    "        return sum(x)\n",
    "    elif action == 'count':\n",
    "        return len(x)\n",
    "    elif action == 'mean':\n",
    "        return sum(x)/len(x)\n",
    "    else:\n",
    "        raise ValueError('Invalid aggregation function')\n",
    "    "
   ]
  },
  {
   "cell_type": "code",
   "execution_count": 48,
   "metadata": {},
   "outputs": [
    {
     "name": "stdout",
     "output_type": "stream",
     "text": [
      "36\n",
      "4.0\n"
     ]
    }
   ],
   "source": [
    "print(aggregator(1,2,3,4,5,6,7,8))\n",
    "print(aggregator(1,2,3,4,5,6,7, action='mean'))"
   ]
  },
  {
   "cell_type": "code",
   "execution_count": null,
   "metadata": {},
   "outputs": [],
   "source": []
  }
 ],
 "metadata": {
  "kernelspec": {
   "display_name": "Python 3",
   "language": "python",
   "name": "python3"
  },
  "language_info": {
   "codemirror_mode": {
    "name": "ipython",
    "version": 3
   },
   "file_extension": ".py",
   "mimetype": "text/x-python",
   "name": "python",
   "nbconvert_exporter": "python",
   "pygments_lexer": "ipython3",
   "version": "3.10.11"
  },
  "orig_nbformat": 4
 },
 "nbformat": 4,
 "nbformat_minor": 2
}
