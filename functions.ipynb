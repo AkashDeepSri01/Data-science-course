{
 "cells": [
  {
   "cell_type": "markdown",
   "metadata": {},
   "source": [
    "syntax\n",
    "'''\n",
    "def fun_name([parameter]):\n",
    "     statement1\n",
    "     statement2\n",
    "     '''\n",
    "     statementn\n",
    "     [return_expression]\n",
    "\n",
    "'''\n",
    "example\n",
    "\n",
    "def area(width,height):\n",
    "     a=width*height\n",
    "     return a"
   ]
  },
  {
   "cell_type": "markdown",
   "metadata": {},
   "source": [
    " Functions\n",
    " -based on parameter and return value\n",
    "   1. no parameter,no return value\n",
    "   2. no parameter ,return value\n",
    "   3. parameter ,no return value\n",
    "   4. parameter ,return value\n",
    "-based on parameter type\n",
    "   1. required parameter\n",
    "   2. keyword parameter\n",
    "   3. default parameter\n",
    "   4. variable length parameter(*args)\n",
    "   5. variable length keyworded parameters(**kwargs)\n",
    "-other types of function\n",
    "   . lambda functon\n",
    "   . generator function\n",
    "   . recursive function "
   ]
  },
  {
   "cell_type": "code",
   "execution_count": null,
   "metadata": {
    "vscode": {
     "languageId": "plaintext"
    }
   },
   "outputs": [],
   "source": []
  }
 ],
 "metadata": {
  "language_info": {
   "name": "python"
  },
  "orig_nbformat": 4
 },
 "nbformat": 4,
 "nbformat_minor": 2
}
