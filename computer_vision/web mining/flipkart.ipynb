{
 "cells": [
  {
   "cell_type": "code",
   "execution_count": 2,
   "metadata": {},
   "outputs": [],
   "source": [
    "import requests\n",
    "from bs4 import BeautifulSoup"
   ]
  },
  {
   "cell_type": "code",
   "execution_count": 3,
   "metadata": {},
   "outputs": [
    {
     "name": "stdout",
     "output_type": "stream",
     "text": [
      "success\n"
     ]
    }
   ],
   "source": [
    "url = 'https://www.flipkart.com/search?q=tv'\n",
    "try:\n",
    "    response = requests.get(url)\n",
    "    soup = BeautifulSoup(response.text, 'html.parser')\n",
    "    print('success')\n",
    "except Exception as e:\n",
    "    print(e)"
   ]
  },
  {
   "cell_type": "code",
   "execution_count": 4,
   "metadata": {},
   "outputs": [
    {
     "name": "stdout",
     "output_type": "stream",
     "text": [
      "target found\n"
     ]
    }
   ],
   "source": [
    "target = soup.find('div', class_ = '_1YokD2 _3Mn1Gg')\n",
    "if target:\n",
    "    print('target found')\n",
    "else:\n",
    "    print('target not found')"
   ]
  },
  {
   "cell_type": "code",
   "execution_count": 5,
   "metadata": {},
   "outputs": [
    {
     "name": "stdout",
     "output_type": "stream",
     "text": [
      "products found\n",
      "total products:  26\n"
     ]
    }
   ],
   "source": [
    "products = target.find_all('div', class_ = '_1AtVbE col-12-12')\n",
    "if products:\n",
    "    print('products found')\n",
    "    total = len(products)\n",
    "    print('total products: ', total)\n",
    "else:\n",
    "    print('products not found')"
   ]
  },
  {
   "cell_type": "code",
   "execution_count": 6,
   "metadata": {},
   "outputs": [
    {
     "name": "stdout",
     "output_type": "stream",
     "text": [
      "Mi A series 80 cm (32 inch) HD Ready LED Smart Google TV 2023 Edition with 1.5 GB RAM and Dolby Audio ...\n",
      "4,68,810 Ratings & 47,202 Reviews\n",
      "₹12,499\n",
      "LG 80 cm (32 inch) HD Ready LED Smart WebOS TV\n",
      "60,930 Ratings & 5,256 Reviews\n",
      "₹13,490\n",
      "Mi 5A 80 cm (32 inch) HD Ready LED Smart Android TV with Dolby Audio (2022 Model)\n",
      "4,68,810 Ratings & 47,202 Reviews\n",
      "₹12,499\n",
      "realme 80 cm (32 inch) HD Ready LED Smart Android TV 2023 Edition with Android 11\n",
      "2,13,043 Ratings & 23,235 Reviews\n",
      "₹12,999\n",
      "Infinix Y1 80 cm (32 inch) HD Ready LED Smart Linux TV 2022 Edition with Wall Mount\n",
      "33,933 Ratings & 4,081 Reviews\n",
      "₹8,999\n",
      "TCL 80.04 cm (32 inch) HD Ready LED Smart Android TV 2022 Edition with Bezel Less & Extra Brightness\n",
      "1,878 Ratings & 207 Reviews\n",
      "₹11,990\n",
      "SAMSUNG 80 cm (32 Inch) HD Ready LED Smart Tizen TV 2022 Edition with Bezel-free Design\n",
      "1,00,105 Ratings & 8,290 Reviews\n",
      "₹14,990\n",
      "realme 80 cm (32 inch) HD Ready LED Smart Android TV\n",
      "2,13,043 Ratings & 23,235 Reviews\n",
      "₹11,999\n",
      "TCL 80.04 cm (32 inch) Full HD LED Smart Google TV 2022 Edition with Bezel Less & Extra Brightness\n",
      "663 Ratings & 99 Reviews\n",
      "₹13,990\n",
      "Mi X Series 108 cm (43 inch) Ultra HD (4K) LED Smart Android TV 2022 Edition with Dolby Vision and 30W...\n",
      "98,322 Ratings & 9,615 Reviews\n",
      "₹25,999\n",
      "ONIDA 108 cm (43 inch) Ultra HD (4K) LED Smart Google TV 2023 Edition\n",
      "141 Ratings & 27 Reviews\n",
      "₹22,999\n",
      "LG 80 cm (32 inch) HD Ready LED Smart WebOS TV 2022 Edition with Alpha5 Gen5 AI Processor | (Ceramic B...\n",
      "2,855 Ratings & 353 Reviews\n",
      "₹15,990\n",
      "Infinix X3IN 80 cm (32 inch) HD Ready LED Smart Android TV 2023 Edition\n",
      "6,146 Ratings & 900 Reviews\n",
      "₹9,999\n",
      "OnePlus Y1S 80 cm (32 inch) HD Ready LED Smart Android TV 2022 Edition with Android 11 and Bezel-Less ...\n",
      "78,696 Ratings & 7,270 Reviews\n",
      "₹15,999\n",
      "OnePlus Y1S 108 cm (43 inch) Full HD LED Smart Android TV 2022 Edition with Android 11 and Bezel-Less ...\n",
      "78,696 Ratings & 7,270 Reviews\n",
      "₹24,999\n",
      "TCL 80.04 cm (32 inch) Full HD LED Smart Android TV 2023 Edition\n",
      "1,878 Ratings & 207 Reviews\n",
      "₹12,490\n",
      "Coocaa 80 cm (32 inch) HD Ready LED Smart Coolita TV with Dolby Audio and Eye Care Technology\n",
      "13,768 Ratings & 1,885 Reviews\n",
      "₹8,499\n",
      "OnePlus Y1S 101 cm (40 inch) Full HD LED Smart Android TV 2023 Edition with Android 11 and Bezel-Less ...\n",
      "96,865 Ratings & 8,422 Reviews\n",
      "₹21,999\n",
      "Mi 5A 108 cm (43 inch) Full HD LED Smart Android TV with Dolby Audio (2022 Model)\n",
      "4,68,810 Ratings & 47,202 Reviews\n",
      "₹22,999\n",
      "Mi 5A 100 cm (40 inch) Full HD LED Smart Android TV with Dolby Audio (2022 Model)\n",
      "4,68,810 Ratings & 47,202 Reviews\n",
      "₹19,999\n",
      "realme 108 cm (43 inch) Ultra HD (4K) LED Smart Android TV with Handsfree Voice Search and Dolby Visio...\n",
      "36,980 Ratings & 4,114 Reviews\n",
      "₹24,999\n",
      "Acer I Series 80 cm (32 inch) HD Ready LED Smart Android TV 2022 Edition with Android 11, 1.5GB RAM (2...\n",
      "18,507 Ratings & 2,677 Reviews\n",
      "₹10,999\n",
      "Acer Advanced I Series 109 cm (43 inch) Ultra HD (4K) LED Smart Google TV 2023 Edition with Dolby Visi...\n",
      "18,507 Ratings & 2,677 Reviews\n",
      "₹24,999\n",
      "realme 80 cm (32 inch) Full HD LED Smart Android TV\n",
      "11,418 Ratings & 1,486 Reviews\n",
      "₹13,999\n",
      "None\n",
      "None\n",
      "None\n",
      "None\n",
      "None\n",
      "None\n"
     ]
    }
   ],
   "source": [
    "for item in products:\n",
    "    try:title = item.find('div', class_ = '_4rR01T').text\n",
    "    except: title = None\n",
    "    \n",
    "    try:review_n_rating = item.find('span', class_='_2_R_DZ').text\n",
    "    except: review_n_rating = None\n",
    "    \n",
    "    try: price = item.find('div', class_='_30jeq3 _1_WHN1').text\n",
    "    except: price = None\n",
    "\n",
    "    print(title)\n",
    "    print(review_n_rating)\n",
    "    print(price)"
   ]
  },
  {
   "cell_type": "code",
   "execution_count": null,
   "metadata": {},
   "outputs": [],
   "source": []
  }
 ],
 "metadata": {
  "kernelspec": {
   "display_name": "base",
   "language": "python",
   "name": "python3"
  },
  "language_info": {
   "codemirror_mode": {
    "name": "ipython",
    "version": 3
   },
   "file_extension": ".py",
   "mimetype": "text/x-python",
   "name": "python",
   "nbconvert_exporter": "python",
   "pygments_lexer": "ipython3",
   "version": "3.10.10"
  },
  "orig_nbformat": 4
 },
 "nbformat": 4,
 "nbformat_minor": 2
}
