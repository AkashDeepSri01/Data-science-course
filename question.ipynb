{
 "cells": [
  {
   "cell_type": "markdown",
   "metadata": {},
   "source": [
    "#wap to find all the indexes of a search element in a given list"
   ]
  },
  {
   "cell_type": "code",
   "execution_count": 1,
   "metadata": {},
   "outputs": [
    {
     "data": {
      "text/plain": [
       "2"
      ]
     },
     "execution_count": 1,
     "metadata": {},
     "output_type": "execute_result"
    }
   ],
   "source": [
    "a=[1,2,3,2,4,5,6,3,4,6,7,8]\n",
    "a.count(2)\n"
   ]
  },
  {
   "cell_type": "code",
   "execution_count": 3,
   "metadata": {},
   "outputs": [],
   "source": [
    "search=0\n",
    "cnt=a.count(search)\n",
    "start=0\n",
    "for i in range(cnt):\n",
    "    idx=a.index(search,start)\n",
    "    start=idx+1\n",
    "    print(idx)"
   ]
  },
  {
   "cell_type": "code",
   "execution_count": 4,
   "metadata": {},
   "outputs": [
    {
     "name": "stdout",
     "output_type": "stream",
     "text": [
      "[1, 3]\n"
     ]
    }
   ],
   "source": [
    "search=2\n",
    "cnt=a.count(search)\n",
    "start=0\n",
    "result=[]\n",
    "for i in range(cnt):\n",
    "    idx=a.index(search,start)\n",
    "    start=idx+1\n",
    "    result.append(idx)\n",
    "print(result)    "
   ]
  },
  {
   "cell_type": "code",
   "execution_count": 6,
   "metadata": {},
   "outputs": [
    {
     "name": "stdout",
     "output_type": "stream",
     "text": [
      "[0, 1, 1, 2, 3, 5, 8, 13, 21, 34, 55, 89, 144, 233, 377, 610, 987]\n"
     ]
    }
   ],
   "source": [
    "fib=[0,1]\n",
    "for i in range(15):\n",
    "    fib.append((fib[-1]+fib[-2]))\n",
    "print(fib)    \n",
    "\n"
   ]
  },
  {
   "cell_type": "code",
   "execution_count": 7,
   "metadata": {},
   "outputs": [
    {
     "name": "stdout",
     "output_type": "stream",
     "text": [
      "6\n"
     ]
    }
   ],
   "source": [
    "num=3\n",
    "f=1\n",
    "for i in range(1,num+1):\n",
    "    f=f*i\n",
    "print(f)    "
   ]
  },
  {
   "cell_type": "code",
   "execution_count": 11,
   "metadata": {},
   "outputs": [
    {
     "name": "stdout",
     "output_type": "stream",
     "text": [
      "['green', 'brown']\n"
     ]
    }
   ],
   "source": [
    "#filter\n",
    "colors=['green','yellow','pink','brown','black','white','purple']\n",
    "colors_with_n = []\n",
    "for c in colors:\n",
    "    if c.endswith('n'):\n",
    "        colors_with_n.append(c)\n",
    "print(colors_with_n)      \n"
   ]
  },
  {
   "cell_type": "code",
   "execution_count": 12,
   "metadata": {},
   "outputs": [
    {
     "name": "stdout",
     "output_type": "stream",
     "text": [
      "['green', 'yellow', 'black', 'white', 'purple']\n"
     ]
    }
   ],
   "source": [
    "colors_having_ane=[]\n",
    "for c in colors:\n",
    "    if 'a' in c or 'e' in c:\n",
    "        colors_having_ane.append(c)\n",
    "print(colors_having_ane)"
   ]
  },
  {
   "cell_type": "code",
   "execution_count": 14,
   "metadata": {},
   "outputs": [
    {
     "name": "stdout",
     "output_type": "stream",
     "text": [
      "[3, 4, 5, 6, 7, 8, 9, 10, 11, 12]\n"
     ]
    }
   ],
   "source": [
    "#mapping\n",
    "a=[1,2,3,4,5,6,7,8,9,10]\n",
    "a2=[]\n",
    "for num in a:\n",
    "    a2.append(num+2)\n",
    "print(a2)    "
   ]
  },
  {
   "cell_type": "code",
   "execution_count": 18,
   "metadata": {},
   "outputs": [
    {
     "name": "stdout",
     "output_type": "stream",
     "text": [
      "['Amar', 'Kumar']\n",
      "A K\n",
      "['Vijay', 'Singh']\n",
      "V S\n",
      "['Rajesh', 'Kumar']\n",
      "R K\n",
      "['Rajesh', 'Singh']\n",
      "R S\n",
      "['Harish', 'Pandey']\n",
      "H P\n",
      "['Ajay', 'Kumar', 'Garg']\n",
      "A G\n"
     ]
    }
   ],
   "source": [
    "full_names=['Amar Kumar','Vijay Singh','Rajesh Kumar','Rajesh Singh','Harish Pandey','Ajay Kumar Garg']\n",
    "short_names=[]\n",
    "for nn in full_names:\n",
    "    print(nn.split())\n",
    "    words=nn.split()\n",
    "    print(words[0][0],words[-1][0])\n",
    "\n"
   ]
  },
  {
   "cell_type": "code",
   "execution_count": null,
   "metadata": {},
   "outputs": [],
   "source": []
  }
 ],
 "metadata": {
  "kernelspec": {
   "display_name": "Python 3",
   "language": "python",
   "name": "python3"
  },
  "language_info": {
   "codemirror_mode": {
    "name": "ipython",
    "version": 3
   },
   "file_extension": ".py",
   "mimetype": "text/x-python",
   "name": "python",
   "nbconvert_exporter": "python",
   "pygments_lexer": "ipython3",
   "version": "3.10.11"
  },
  "orig_nbformat": 4
 },
 "nbformat": 4,
 "nbformat_minor": 2
}
