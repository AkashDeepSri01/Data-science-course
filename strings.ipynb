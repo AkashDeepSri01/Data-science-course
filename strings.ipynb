{
 "cells": [
  {
   "cell_type": "markdown",
   "metadata": {},
   "source": [
    "#Strings\n",
    " .create\n",
    " .index and slice\n",
    " .methods\n",
    "\n"
   ]
  },
  {
   "cell_type": "code",
   "execution_count": 6,
   "metadata": {},
   "outputs": [
    {
     "name": "stdout",
     "output_type": "stream",
     "text": [
      "<class 'str'> <class 'str'> <class 'str'>\n",
      "<class 'str'>\n"
     ]
    }
   ],
   "source": [
    "a='apple'\n",
    "b='banana'\n",
    "c='''this is a string of multiple lines'''\n",
    "print(type(a),type(b),type(c))\n",
    "d=str(123)\n",
    "print(type(d))"
   ]
  },
  {
   "cell_type": "code",
   "execution_count": 7,
   "metadata": {},
   "outputs": [
    {
     "data": {
      "text/plain": [
       "'applebanana'"
      ]
     },
     "execution_count": 7,
     "metadata": {},
     "output_type": "execute_result"
    }
   ],
   "source": [
    "'aa'*10 #string duplication\n",
    "a+b #string concatination\n",
    "\n"
   ]
  },
  {
   "cell_type": "code",
   "execution_count": 13,
   "metadata": {},
   "outputs": [
    {
     "name": "stdout",
     "output_type": "stream",
     "text": [
      "vijay\n",
      "deenanath\n",
      "chauhan\n"
     ]
    }
   ],
   "source": [
    "name='vijay deenanath chauhan'\n",
    "print(name[0:5])\n",
    "print(name[6:15])\n",
    "print(name[16:len(name)])"
   ]
  },
  {
   "cell_type": "markdown",
   "metadata": {},
   "source": [
    "slicing syntax\n",
    "var[(start):(stop):(step)]"
   ]
  },
  {
   "cell_type": "code",
   "execution_count": 17,
   "metadata": {},
   "outputs": [
    {
     "name": "stdout",
     "output_type": "stream",
     "text": [
      "vjydeaahcahn\n",
      "ia ennt hua\n",
      "nahuahc htananeed yajiv\n"
     ]
    }
   ],
   "source": [
    "print(name[ : : 2])\n",
    "print(name[1::2])\n",
    "#reverse string\n",
    "print(name[::-1])"
   ]
  },
  {
   "cell_type": "markdown",
   "metadata": {},
   "source": [
    "string method\n",
    "-formatting methods\n",
    " -upper(),lower(),capatilize(),title(),showcase()\n",
    "-veledation methods\n",
    " -isupper(),islower(),istitlle(),isalpha(),isnumeric()\n",
    "-utility methhods\n",
    " -spllit(),join(),find(),replace(),strip()\n",
    "  -startwith(),endwith()"
   ]
  },
  {
   "cell_type": "code",
   "execution_count": 26,
   "metadata": {},
   "outputs": [
    {
     "name": "stdout",
     "output_type": "stream",
     "text": [
      "THIS IS A PYTHON STRING\n",
      "this is a python string\n",
      "This is a python string\n",
      "tHIS IS A pYTHON STRING\n",
      "this is a python string\n",
      "This Is A Python String\n"
     ]
    }
   ],
   "source": [
    "msg='This is a Python string'\n",
    "print(msg.upper())\n",
    "print(msg.lower())\n",
    "print(msg.capitalize())\n",
    "print(msg.swapcase())\n",
    "print(msg.casefold())\n",
    "print(msg.title())"
   ]
  },
  {
   "cell_type": "code",
   "execution_count": 28,
   "metadata": {},
   "outputs": [
    {
     "name": "stdout",
     "output_type": "stream",
     "text": [
      "This Is A Python String\n"
     ]
    }
   ],
   "source": [
    "\n",
    "msg=msg.title()\n",
    "print(msg)\n"
   ]
  },
  {
   "cell_type": "code",
   "execution_count": 29,
   "metadata": {},
   "outputs": [
    {
     "data": {
      "text/plain": [
       "False"
      ]
     },
     "execution_count": 29,
     "metadata": {},
     "output_type": "execute_result"
    }
   ],
   "source": [
    "\"hello\".isupper()"
   ]
  },
  {
   "cell_type": "code",
   "execution_count": 30,
   "metadata": {},
   "outputs": [
    {
     "name": "stdout",
     "output_type": "stream",
     "text": [
      "you enter a alphanumeric\n",
      "you enter a lowercase string\n"
     ]
    }
   ],
   "source": [
    "x=input('enter a number:')\n",
    "if x.isnumeric():\n",
    "    print('you enter a number')\n",
    "if x.isalpha(): \n",
    "    print('you enter a string')\n",
    "if x.isalnum():\n",
    "    print('you enter a alphanumeric')\n",
    "if x.islower():\n",
    "    print('you enter a lowercase string')           "
   ]
  },
  {
   "cell_type": "code",
   "execution_count": 33,
   "metadata": {},
   "outputs": [
    {
     "name": "stdout",
     "output_type": "stream",
     "text": [
      "True\n"
     ]
    }
   ],
   "source": [
    "person='Ms.smith'\n",
    "print(person.startswith('Ms.'))\n"
   ]
  },
  {
   "cell_type": "code",
   "execution_count": 36,
   "metadata": {},
   "outputs": [
    {
     "name": "stdout",
     "output_type": "stream",
     "text": [
      "blue\n",
      "brown\n",
      "black\n"
     ]
    }
   ],
   "source": [
    "colors=['red','green','blue','brown','black'] \n",
    "for color in colors:\n",
    "    if color.startswith('b'):\n",
    "        print(color)\n"
   ]
  },
  {
   "cell_type": "code",
   "execution_count": 37,
   "metadata": {},
   "outputs": [
    {
     "name": "stdout",
     "output_type": "stream",
     "text": [
      "JPG found >> 1.jpg\n",
      "PNG found>> 2.png\n",
      "PNG found>> 3.png\n",
      "PNG found>> 4.png\n",
      "JPG found >> 5.jpg\n"
     ]
    }
   ],
   "source": [
    "images=['1.jpg','2.png','3.png','4.png','5.jpg']\n",
    "for img in images:\n",
    "    if img.endswith('.png'):\n",
    "        print('PNG found>>',img)\n",
    "    if img.endswith('.jpg'):\n",
    "        print('JPG found >>',img)    "
   ]
  },
  {
   "cell_type": "code",
   "execution_count": 42,
   "metadata": {},
   "outputs": [
    {
     "name": "stdout",
     "output_type": "stream",
     "text": [
      "life before death, strenth before weakness, journey before destinaton\n",
      "['life', 'before', 'death,', 'strenth', 'before', 'weakness,', 'journey', 'before', 'destinaton']\n",
      "['life before death', ' strenth before weakness', ' journey before destinaton']\n",
      "['life before de', 'th, strenth before we', 'kness, journey before destin', 'ton']\n"
     ]
    }
   ],
   "source": [
    "quote='life before death, strenth before weakness, journey before destinaton'\n",
    "print(quote)\n",
    "print(quote.split())\n",
    "print(quote.split(','))\n",
    "print(quote.split('a'))\n"
   ]
  },
  {
   "cell_type": "code",
   "execution_count": 43,
   "metadata": {},
   "outputs": [
    {
     "name": "stdout",
     "output_type": "stream",
     "text": [
      "['life', 'before', 'death,', 'strenth', 'before', 'weakness,', 'journey', 'before', 'destinaton']\n",
      "9\n"
     ]
    }
   ],
   "source": [
    "words=quote.split()\n",
    "print(words)\n",
    "print (len(words))"
   ]
  },
  {
   "cell_type": "code",
   "execution_count": 3,
   "metadata": {},
   "outputs": [
    {
     "name": "stdout",
     "output_type": "stream",
     "text": [
      "alex alexes alexa alexander\n",
      "alex,alexes,alexa,alexander\n",
      "alex+alexes+alexa+alexander\n"
     ]
    }
   ],
   "source": [
    "x=['alex','alexes','alexa','alexander']\n",
    "print(' '.join(x))\n",
    "print(','.join(x))\n",
    "print('+'.join(x))"
   ]
  },
  {
   "cell_type": "code",
   "execution_count": 16,
   "metadata": {},
   "outputs": [
    {
     "name": "stdout",
     "output_type": "stream",
     "text": [
      "7\n",
      "30\n",
      "49\n",
      "60\n"
     ]
    }
   ],
   "source": [
    "story='Once upon a time ,there was a king ,who left his kingdom to the queen and ,she ruld over it'\n",
    "print(story.find('on'))\n",
    "print(story.find('king'))\n",
    "print(story.find('king',31))\n",
    "print(story.rfind('the'))"
   ]
  },
  {
   "cell_type": "code",
   "execution_count": 12,
   "metadata": {},
   "outputs": [
    {
     "name": "stdout",
     "output_type": "stream",
     "text": [
      "Once upon a tome ,there was a kong ,who left hos kongdom to the qween and ,she ruld over ot\n",
      "Once upon a year ,there is a king ,who left his kingdom to the qween and ,she ruld over it\n"
     ]
    }
   ],
   "source": [
    "print(story.replace('i','o'))\n",
    "print(story.replace('time','year').replace('was','is'))"
   ]
  },
  {
   "cell_type": "code",
   "execution_count": 17,
   "metadata": {},
   "outputs": [
    {
     "name": "stdout",
     "output_type": "stream",
     "text": [
      "Once upon a time ,there was a queen ,who left his queendom to the queen and ,she ruld over it\n"
     ]
    }
   ],
   "source": [
    "story=story.replace('king','queen')\n",
    "print(story)"
   ]
  },
  {
   "cell_type": "code",
   "execution_count": 18,
   "metadata": {},
   "outputs": [
    {
     "name": "stdout",
     "output_type": "stream",
     "text": [
      "hello 6 5\n"
     ]
    }
   ],
   "source": [
    "data=' hello'\n",
    "cdata=data.strip()\n",
    "print(cdata,len(data),len(cdata))"
   ]
  },
  {
   "cell_type": "code",
   "execution_count": 19,
   "metadata": {},
   "outputs": [
    {
     "name": "stdout",
     "output_type": "stream",
     "text": [
      " rs.100000\n",
      "rs.100000\n"
     ]
    }
   ],
   "source": [
    "kachra=''' rs.100000'''\n",
    "print(kachra)\n",
    "print(kachra.strip())"
   ]
  },
  {
   "cell_type": "code",
   "execution_count": 21,
   "metadata": {},
   "outputs": [
    {
     "name": "stdout",
     "output_type": "stream",
     "text": [
      "1\n",
      "2\n",
      "3\n",
      "4\n"
     ]
    }
   ],
   "source": [
    "images=['1.jpg','2.png','3.png','4.jpg']\n",
    "for image in images:\n",
    "    image=image.removesuffix('.png').removesuffix('.jpg')\n",
    "    print(image)\n"
   ]
  },
  {
   "cell_type": "code",
   "execution_count": 26,
   "metadata": {},
   "outputs": [
    {
     "name": "stdout",
     "output_type": "stream",
     "text": [
      "10000\n",
      "8000\n",
      "12000\n",
      "15000\n"
     ]
    }
   ],
   "source": [
    "prices=['rs.10000','rs.8000','rs.12000','rs.15000']\n",
    "for price in prices:\n",
    "    pr=price.removeprefix('rs.')\n",
    "    print(int(pr))"
   ]
  },
  {
   "cell_type": "code",
   "execution_count": 25,
   "metadata": {},
   "outputs": [
    {
     "name": "stdout",
     "output_type": "stream",
     "text": [
      "3\n"
     ]
    }
   ],
   "source": [
    "print(story.count('queen'))\n"
   ]
  },
  {
   "cell_type": "code",
   "execution_count": 30,
   "metadata": {},
   "outputs": [],
   "source": [
    "content='''The Zen of Python, by Tim Peters\n",
    "Beautiful is better than ugly.\n",
    "Explicit is better than implicit.\n",
    "Simple is better than complex.\n",
    "Complex is better than complicated.\n",
    "Flat is better than nested.\n",
    "Sparse is better than dense.\n",
    "Readability counts.\n",
    "Special cases aren't special enough to break the rules.\n",
    "Although practicality beats purity.\n",
    "Errors should never pass silently.\n",
    "Unless explicitly silenced.\n",
    "In the face of ambiguity, refuse the temptation to guess.\n",
    "There should be one-- and preferably only one --obvious way to do it.\n",
    "Although that way may not be obvious at first unless you're Dutch.\n",
    "Now is better than never.\n",
    "Although never is often better than *right* now.\n",
    "If the implementation is hard to explain, it's a bad idea.\n",
    "If the implementation is easy to explain, it may be a good idea.\n",
    "Namespaces are one honking great idea -- let's do more of those!\n",
    "'''\n"
   ]
  },
  {
   "cell_type": "code",
   "execution_count": 33,
   "metadata": {},
   "outputs": [
    {
     "name": "stdout",
     "output_type": "stream",
     "text": [
      "The Zen of Python, by Tim Peters\n",
      "Beautiful is better than ugly.\n",
      "Explicit is better than implicit.\n",
      "Simple is better than complex.\n",
      "Complex is better than complicated.\n",
      "Flat is better than nested.\n",
      "Sparse is better than dense.\n",
      "Readability counts.\n",
      "Special cases aren't special enough to break the rules.\n",
      "Although practicality beats purity.\n",
      "Errors should never pass silently.\n",
      "Unless explicitly silenced.\n",
      "In the face of ambiguity, refuse the temptation to guess.\n",
      "There should be one-- and preferably only one --obvious way to do it.\n",
      "Although that way may not be obvious at first unless you're Dutch.\n",
      "Now is better than never.\n",
      "Although never is often better than *right* now.\n",
      "If the implementation is hard to explain, it's a bad idea.\n",
      "If the implementation is easy to explain, it may be a good idea.\n",
      "Namespaces are one honking great idea -- let's do more of those!\n",
      "\n",
      "['The', 'Zen', 'of', 'Python,', 'by', 'Tim', 'Peters', 'Beautiful', 'is', 'better', 'than', 'ugly.', 'Explicit', 'is', 'better', 'than', 'implicit.', 'Simple', 'is', 'better', 'than', 'complex.', 'Complex', 'is', 'better', 'than', 'complicated.', 'Flat', 'is', 'better', 'than', 'nested.', 'Sparse', 'is', 'better', 'than', 'dense.', 'Readability', 'counts.', 'Special', 'cases', \"aren't\", 'special', 'enough', 'to', 'break', 'the', 'rules.', 'Although', 'practicality', 'beats', 'purity.', 'Errors', 'should', 'never', 'pass', 'silently.', 'Unless', 'explicitly', 'silenced.', 'In', 'the', 'face', 'of', 'ambiguity,', 'refuse', 'the', 'temptation', 'to', 'guess.', 'There', 'should', 'be', 'one--', 'and', 'preferably', 'only', 'one', '--obvious', 'way', 'to', 'do', 'it.', 'Although', 'that', 'way', 'may', 'not', 'be', 'obvious', 'at', 'first', 'unless', \"you're\", 'Dutch.', 'Now', 'is', 'better', 'than', 'never.', 'Although', 'never', 'is', 'often', 'better', 'than', '*right*', 'now.', 'If', 'the', 'implementation', 'is', 'hard', 'to', 'explain,', \"it's\", 'a', 'bad', 'idea.', 'If', 'the', 'implementation', 'is', 'easy', 'to', 'explain,', 'it', 'may', 'be', 'a', 'good', 'idea.', 'Namespaces', 'are', 'one', 'honking', 'great', 'idea', '--', \"let's\", 'do', 'more', 'of', 'those!']\n",
      "['The', 'Zen', 'of', 'Python,', 'by', 'Tim', 'Peters', 'Beautiful', 'is', 'better', 'than', 'ugly.', 'Explicit', 'is', 'better', 'than', 'implicit.', 'Simple', 'is', 'better', 'than', 'complex.', 'Complex', 'is', 'better', 'than', 'complicated.', 'Flat', 'is', 'better', 'than', 'nested.', 'Sparse', 'is', 'better', 'than', 'dense.', 'Readability', 'counts.', 'Special', 'cases', \"aren't\", 'special', 'enough', 'to', 'break', 'the', 'rules.', 'Although', 'practicality', 'beats', 'purity.', 'Errors', 'should', 'never', 'pass', 'silently.', 'Unless', 'explicitly', 'silenced.', 'In', 'the', 'face', 'of', 'ambiguity,', 'refuse', 'the', 'temptation', 'to', 'guess.', 'There', 'should', 'be', 'one--', 'and', 'preferably', 'only', 'one', '--obvious', 'way', 'to', 'do', 'it.', 'Although', 'that', 'way', 'may', 'not', 'be', 'obvious', 'at', 'first', 'unless', \"you're\", 'Dutch.', 'Now', 'is', 'better', 'than', 'never.', 'Although', 'never', 'is', 'often', 'better', 'than', '*right*', 'now.', 'If', 'the', 'implementation', 'is', 'hard', 'to', 'explain,', \"it's\", 'a', 'bad', 'idea.', 'If', 'the', 'implementation', 'is', 'easy', 'to', 'explain,', 'it', 'may', 'be', 'a', 'good', 'idea.', 'Namespaces', 'are', 'one', 'honking', 'great', 'idea', '--', \"let's\", 'do', 'more', 'of', 'those!']\n",
      "144\n"
     ]
    }
   ],
   "source": [
    "print(content)\n",
    "print(content.split())\n",
    "words=content.split()\n",
    "print(words)\n",
    "print(len(words))\n"
   ]
  },
  {
   "cell_type": "code",
   "execution_count": 34,
   "metadata": {},
   "outputs": [
    {
     "name": "stdout",
     "output_type": "stream",
     "text": [
      "The                 3\n",
      "Zen                 3\n",
      "of                  2\n",
      "Python,             7\n",
      "by                  2\n",
      "Tim                 3\n",
      "Peters              6\n",
      "Beautiful           9\n",
      "is                  2\n",
      "better              6\n",
      "than                4\n",
      "ugly.               5\n",
      "Explicit            8\n",
      "is                  2\n",
      "better              6\n",
      "than                4\n",
      "implicit.           9\n",
      "Simple              6\n",
      "is                  2\n",
      "better              6\n",
      "than                4\n",
      "complex.            8\n",
      "Complex             7\n",
      "is                  2\n",
      "better              6\n",
      "than                4\n",
      "complicated.        12\n",
      "Flat                4\n",
      "is                  2\n",
      "better              6\n",
      "than                4\n",
      "nested.             7\n",
      "Sparse              6\n",
      "is                  2\n",
      "better              6\n",
      "than                4\n",
      "dense.              6\n",
      "Readability         11\n",
      "counts.             7\n",
      "Special             7\n",
      "cases               5\n",
      "aren't              6\n",
      "special             7\n",
      "enough              6\n",
      "to                  2\n",
      "break               5\n",
      "the                 3\n",
      "rules.              6\n",
      "Although            8\n",
      "practicality        12\n",
      "beats               5\n",
      "purity.             7\n",
      "Errors              6\n",
      "should              6\n",
      "never               5\n",
      "pass                4\n",
      "silently.           9\n",
      "Unless              6\n",
      "explicitly          10\n",
      "silenced.           9\n",
      "In                  2\n",
      "the                 3\n",
      "face                4\n",
      "of                  2\n",
      "ambiguity,          10\n",
      "refuse              6\n",
      "the                 3\n",
      "temptation          10\n",
      "to                  2\n",
      "guess.              6\n",
      "There               5\n",
      "should              6\n",
      "be                  2\n",
      "one--               5\n",
      "and                 3\n",
      "preferably          10\n",
      "only                4\n",
      "one                 3\n",
      "--obvious           9\n",
      "way                 3\n",
      "to                  2\n",
      "do                  2\n",
      "it.                 3\n",
      "Although            8\n",
      "that                4\n",
      "way                 3\n",
      "may                 3\n",
      "not                 3\n",
      "be                  2\n",
      "obvious             7\n",
      "at                  2\n",
      "first               5\n",
      "unless              6\n",
      "you're              6\n",
      "Dutch.              6\n",
      "Now                 3\n",
      "is                  2\n",
      "better              6\n",
      "than                4\n",
      "never.              6\n",
      "Although            8\n",
      "never               5\n",
      "is                  2\n",
      "often               5\n",
      "better              6\n",
      "than                4\n",
      "*right*             7\n",
      "now.                4\n",
      "If                  2\n",
      "the                 3\n",
      "implementation      14\n",
      "is                  2\n",
      "hard                4\n",
      "to                  2\n",
      "explain,            8\n",
      "it's                4\n",
      "a                   1\n",
      "bad                 3\n",
      "idea.               5\n",
      "If                  2\n",
      "the                 3\n",
      "implementation      14\n",
      "is                  2\n",
      "easy                4\n",
      "to                  2\n",
      "explain,            8\n",
      "it                  2\n",
      "may                 3\n",
      "be                  2\n",
      "a                   1\n",
      "good                4\n",
      "idea.               5\n",
      "Namespaces          10\n",
      "are                 3\n",
      "one                 3\n",
      "honking             7\n",
      "great               5\n",
      "idea                4\n",
      "--                  2\n",
      "let's               5\n",
      "do                  2\n",
      "more                4\n",
      "of                  2\n",
      "those!              6\n"
     ]
    }
   ],
   "source": [
    "for word in content.split():\n",
    "    print(f'{word:20}{len(word)}')"
   ]
  },
  {
   "cell_type": "code",
   "execution_count": 37,
   "metadata": {},
   "outputs": [
    {
     "name": "stdout",
     "output_type": "stream",
     "text": [
      "better              6\n",
      "Explicit            8\n",
      "pass                4\n",
      "break               5\n",
      "Special             7\n",
      "you're              6\n",
      "Errors              6\n",
      "be                  2\n",
      "often               5\n",
      "The                 3\n",
      "aren't              6\n",
      "obvious             7\n",
      "ugly.               5\n",
      "bad                 3\n",
      "first               5\n",
      "way                 3\n",
      "Unless              6\n",
      "by                  2\n",
      "cases               5\n",
      "implementation      14\n",
      "not                 3\n",
      "Complex             7\n",
      "only                4\n",
      "dense.              6\n",
      "hard                4\n",
      "Namespaces          10\n",
      "easy                4\n",
      "to                  2\n",
      "of                  2\n",
      "explain,            8\n",
      "should              6\n",
      "honking             7\n",
      "good                4\n",
      "If                  2\n",
      "more                4\n",
      "Readability         11\n",
      "beats               5\n",
      "special             7\n",
      "Peters              6\n",
      "at                  2\n",
      "--obvious           9\n",
      "never               5\n",
      "and                 3\n",
      "now.                4\n",
      "are                 3\n",
      "--                  2\n",
      "it.                 3\n",
      "explicitly          10\n",
      "implicit.           9\n",
      "temptation          10\n",
      "face                4\n",
      "Now                 3\n",
      "purity.             7\n",
      "those!              6\n",
      "the                 3\n",
      "complex.            8\n",
      "refuse              6\n",
      "it's                4\n",
      "a                   1\n",
      "great               5\n",
      "Although            8\n",
      "Beautiful           9\n",
      "one--               5\n",
      "is                  2\n",
      "Flat                4\n",
      "may                 3\n",
      "complicated.        12\n",
      "never.              6\n",
      "that                4\n",
      "idea                4\n",
      "do                  2\n",
      "idea.               5\n",
      "preferably          10\n",
      "ambiguity,          10\n",
      "counts.             7\n",
      "one                 3\n",
      "Tim                 3\n",
      "Dutch.              6\n",
      "*right*             7\n",
      "enough              6\n",
      "silenced.           9\n",
      "practicality        12\n",
      "silently.           9\n",
      "Zen                 3\n",
      "Sparse              6\n",
      "it                  2\n",
      "let's               5\n",
      "Simple              6\n",
      "Python,             7\n",
      "In                  2\n",
      "guess.              6\n",
      "rules.              6\n",
      "unless              6\n",
      "nested.             7\n",
      "than                4\n",
      "There               5\n"
     ]
    }
   ],
   "source": [
    "for word in set(content.split()):\n",
    "    print(f'{word:20}{len(word)}')"
   ]
  },
  {
   "cell_type": "code",
   "execution_count": null,
   "metadata": {},
   "outputs": [],
   "source": []
  }
 ],
 "metadata": {
  "kernelspec": {
   "display_name": "Python 3",
   "language": "python",
   "name": "python3"
  },
  "language_info": {
   "codemirror_mode": {
    "name": "ipython",
    "version": 3
   },
   "file_extension": ".py",
   "mimetype": "text/x-python",
   "name": "python",
   "nbconvert_exporter": "python",
   "pygments_lexer": "ipython3",
   "version": "3.10.11"
  },
  "orig_nbformat": 4
 },
 "nbformat": 4,
 "nbformat_minor": 2
}
