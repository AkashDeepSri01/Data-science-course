{
 "cells": [
  {
   "cell_type": "markdown",
   "metadata": {},
   "source": [
    "#Strings\n",
    " .create\n",
    " .index and slice\n",
    " .methods\n",
    "\n"
   ]
  },
  {
   "cell_type": "code",
   "execution_count": 6,
   "metadata": {},
   "outputs": [
    {
     "name": "stdout",
     "output_type": "stream",
     "text": [
      "<class 'str'> <class 'str'> <class 'str'>\n",
      "<class 'str'>\n"
     ]
    }
   ],
   "source": [
    "a='apple'\n",
    "b='banana'\n",
    "c='''this is a string of multiple lines'''\n",
    "print(type(a),type(b),type(c))\n",
    "d=str(123)\n",
    "print(type(d))"
   ]
  },
  {
   "cell_type": "code",
   "execution_count": 7,
   "metadata": {},
   "outputs": [
    {
     "data": {
      "text/plain": [
       "'applebanana'"
      ]
     },
     "execution_count": 7,
     "metadata": {},
     "output_type": "execute_result"
    }
   ],
   "source": [
    "'aa'*10 #string duplication\n",
    "a+b #string concatination\n",
    "\n"
   ]
  },
  {
   "cell_type": "code",
   "execution_count": 13,
   "metadata": {},
   "outputs": [
    {
     "name": "stdout",
     "output_type": "stream",
     "text": [
      "vijay\n",
      "deenanath\n",
      "chauhan\n"
     ]
    }
   ],
   "source": [
    "name='vijay deenanath chauhan'\n",
    "print(name[0:5])\n",
    "print(name[6:15])\n",
    "print(name[16:len(name)])"
   ]
  },
  {
   "cell_type": "markdown",
   "metadata": {},
   "source": [
    "slicing syntax\n",
    "var[(start):(stop):(step)]"
   ]
  },
  {
   "cell_type": "code",
   "execution_count": 17,
   "metadata": {},
   "outputs": [
    {
     "name": "stdout",
     "output_type": "stream",
     "text": [
      "vjydeaahcahn\n",
      "ia ennt hua\n",
      "nahuahc htananeed yajiv\n"
     ]
    }
   ],
   "source": [
    "print(name[ : : 2])\n",
    "print(name[1::2])\n",
    "#reverse string\n",
    "print(name[::-1])"
   ]
  },
  {
   "cell_type": "markdown",
   "metadata": {},
   "source": [
    "string method\n",
    "-formatting methods\n",
    " -upper(),lower(),capatilize(),title(),showcase()\n",
    "-veledation methods\n",
    " -isupper(),islower(),istitlle(),isalpha(),isnumeric()\n",
    "-utility methhods\n",
    " -spllit(),join(),find(),replace(),strip()\n",
    "  -startwith(),endwith()"
   ]
  },
  {
   "cell_type": "code",
   "execution_count": 26,
   "metadata": {},
   "outputs": [
    {
     "name": "stdout",
     "output_type": "stream",
     "text": [
      "THIS IS A PYTHON STRING\n",
      "this is a python string\n",
      "This is a python string\n",
      "tHIS IS A pYTHON STRING\n",
      "this is a python string\n",
      "This Is A Python String\n"
     ]
    }
   ],
   "source": [
    "msg='This is a Python string'\n",
    "print(msg.upper())\n",
    "print(msg.lower())\n",
    "print(msg.capitalize())\n",
    "print(msg.swapcase())\n",
    "print(msg.casefold())\n",
    "print(msg.title())"
   ]
  },
  {
   "cell_type": "code",
   "execution_count": 28,
   "metadata": {},
   "outputs": [
    {
     "name": "stdout",
     "output_type": "stream",
     "text": [
      "This Is A Python String\n"
     ]
    }
   ],
   "source": [
    "\n",
    "msg=msg.title()\n",
    "print(msg)\n"
   ]
  },
  {
   "cell_type": "code",
   "execution_count": 29,
   "metadata": {},
   "outputs": [
    {
     "data": {
      "text/plain": [
       "False"
      ]
     },
     "execution_count": 29,
     "metadata": {},
     "output_type": "execute_result"
    }
   ],
   "source": [
    "\"hello\".isupper()"
   ]
  },
  {
   "cell_type": "code",
   "execution_count": 30,
   "metadata": {},
   "outputs": [
    {
     "name": "stdout",
     "output_type": "stream",
     "text": [
      "you enter a alphanumeric\n",
      "you enter a lowercase string\n"
     ]
    }
   ],
   "source": [
    "x=input('enter a number:')\n",
    "if x.isnumeric():\n",
    "    print('you enter a number')\n",
    "if x.isalpha(): \n",
    "    print('you enter a string')\n",
    "if x.isalnum():\n",
    "    print('you enter a alphanumeric')\n",
    "if x.islower():\n",
    "    print('you enter a lowercase string')           "
   ]
  },
  {
   "cell_type": "code",
   "execution_count": 33,
   "metadata": {},
   "outputs": [
    {
     "name": "stdout",
     "output_type": "stream",
     "text": [
      "True\n"
     ]
    }
   ],
   "source": [
    "person='Ms.smith'\n",
    "print(person.startswith('Ms.'))\n"
   ]
  },
  {
   "cell_type": "code",
   "execution_count": 36,
   "metadata": {},
   "outputs": [
    {
     "name": "stdout",
     "output_type": "stream",
     "text": [
      "blue\n",
      "brown\n",
      "black\n"
     ]
    }
   ],
   "source": [
    "colors=['red','green','blue','brown','black'] \n",
    "for color in colors:\n",
    "    if color.startswith('b'):\n",
    "        print(color)\n"
   ]
  },
  {
   "cell_type": "code",
   "execution_count": 37,
   "metadata": {},
   "outputs": [
    {
     "name": "stdout",
     "output_type": "stream",
     "text": [
      "JPG found >> 1.jpg\n",
      "PNG found>> 2.png\n",
      "PNG found>> 3.png\n",
      "PNG found>> 4.png\n",
      "JPG found >> 5.jpg\n"
     ]
    }
   ],
   "source": [
    "images=['1.jpg','2.png','3.png','4.png','5.jpg']\n",
    "for img in images:\n",
    "    if img.endswith('.png'):\n",
    "        print('PNG found>>',img)\n",
    "    if img.endswith('.jpg'):\n",
    "        print('JPG found >>',img)    "
   ]
  },
  {
   "cell_type": "code",
   "execution_count": 42,
   "metadata": {},
   "outputs": [
    {
     "name": "stdout",
     "output_type": "stream",
     "text": [
      "life before death, strenth before weakness, journey before destinaton\n",
      "['life', 'before', 'death,', 'strenth', 'before', 'weakness,', 'journey', 'before', 'destinaton']\n",
      "['life before death', ' strenth before weakness', ' journey before destinaton']\n",
      "['life before de', 'th, strenth before we', 'kness, journey before destin', 'ton']\n"
     ]
    }
   ],
   "source": [
    "quote='life before death, strenth before weakness, journey before destinaton'\n",
    "print(quote)\n",
    "print(quote.split())\n",
    "print(quote.split(','))\n",
    "print(quote.split('a'))\n"
   ]
  },
  {
   "cell_type": "code",
   "execution_count": 43,
   "metadata": {},
   "outputs": [
    {
     "name": "stdout",
     "output_type": "stream",
     "text": [
      "['life', 'before', 'death,', 'strenth', 'before', 'weakness,', 'journey', 'before', 'destinaton']\n",
      "9\n"
     ]
    }
   ],
   "source": [
    "words=quote.split()\n",
    "print(words)\n",
    "print (len(words))"
   ]
  },
  {
   "cell_type": "code",
   "execution_count": null,
   "metadata": {},
   "outputs": [],
   "source": []
  }
 ],
 "metadata": {
  "kernelspec": {
   "display_name": "Python 3",
   "language": "python",
   "name": "python3"
  },
  "language_info": {
   "codemirror_mode": {
    "name": "ipython",
    "version": 3
   },
   "file_extension": ".py",
   "mimetype": "text/x-python",
   "name": "python",
   "nbconvert_exporter": "python",
   "pygments_lexer": "ipython3",
   "version": "3.10.11"
  },
  "orig_nbformat": 4
 },
 "nbformat": 4,
 "nbformat_minor": 2
}
