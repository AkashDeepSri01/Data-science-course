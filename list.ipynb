{
 "cells": [
  {
   "cell_type": "markdown",
   "metadata": {},
   "source": [
    "# list\n",
    "-index,ordered,mutable,can have dupblicates,[],list()\n",
    "\n",
    "# tuple\n",
    "-indexed,ordered,*immutable*,can have duplicates,(),tuple()\n",
    "\n",
    "# set\n",
    "-unindexed,unordered,mutable,*cannot have duplicates*,{},set()\n",
    "\n",
    "# dictionary\n",
    "-unindexed,ordered,mutable,*key:value pairs*,*immutable keys*,{key:value},dict()"
   ]
  },
  {
   "cell_type": "code",
   "execution_count": 1,
   "metadata": {},
   "outputs": [],
   "source": [
    "#creating list\n",
    "x=[]\n",
    "a=[1,2,3,4,5]\n",
    "colors=['red','green','blue']\n",
    "mixed=[1,2,'red','green',False,True,None,[1,2,3]]\n",
    "nested_list=[[1,2,3],[4,5,6]]\n",
    "\n"
   ]
  },
  {
   "cell_type": "code",
   "execution_count": 2,
   "metadata": {},
   "outputs": [
    {
     "name": "stdout",
     "output_type": "stream",
     "text": [
      "['A', 'k', 'a', 's', 'h', 'd', 'e', 'e', 'p']\n"
     ]
    }
   ],
   "source": [
    "name='Akashdeep'\n",
    "charlist=list(name)\n",
    "print(charlist)"
   ]
  },
  {
   "cell_type": "code",
   "execution_count": 3,
   "metadata": {},
   "outputs": [
    {
     "data": {
      "text/plain": [
       "['red', 'green', 'blue', 'red', 'green', 'blue', 'red', 'green', 'blue']"
      ]
     },
     "execution_count": 3,
     "metadata": {},
     "output_type": "execute_result"
    }
   ],
   "source": [
    "colors*3"
   ]
  },
  {
   "cell_type": "code",
   "execution_count": 4,
   "metadata": {},
   "outputs": [
    {
     "data": {
      "text/plain": [
       "[1, 2, 3, 4, 5, 'red', 'green', 'blue']"
      ]
     },
     "execution_count": 4,
     "metadata": {},
     "output_type": "execute_result"
    }
   ],
   "source": [
    "a+colors #list concatination"
   ]
  },
  {
   "cell_type": "code",
   "execution_count": 5,
   "metadata": {},
   "outputs": [
    {
     "data": {
      "text/plain": [
       "10"
      ]
     },
     "execution_count": 5,
     "metadata": {},
     "output_type": "execute_result"
    }
   ],
   "source": [
    "colors=['red','green','blue','yellow',\n",
    "        'black','white','orange',\n",
    "        'pink','gray','voilet']\n",
    "len(colors)"
   ]
  },
  {
   "cell_type": "code",
   "execution_count": 8,
   "metadata": {},
   "outputs": [
    {
     "name": "stdout",
     "output_type": "stream",
     "text": [
      "['red', 'green', 'blue', 'yellow', 'black']\n",
      "['pink', 'gray', 'voilet']\n",
      "['voilet', 'gray', 'pink', 'orange', 'white', 'black', 'yellow', 'blue', 'green', 'red']\n"
     ]
    }
   ],
   "source": [
    "print(colors[:5])\n",
    "print(colors[-3:])\n",
    "print(colors[::-1])"
   ]
  },
  {
   "cell_type": "markdown",
   "metadata": {},
   "source": [
    "*total 11 methods in a list*\n",
    "-to add\n",
    "  1.append()\n",
    "  2.extend()\n",
    "  3.insert()\n",
    "-to remove\n",
    "  4.remove()\n",
    "  5.pop()\n",
    "  3.clear()\n",
    "-for utility\n",
    "  1.reverse()\n",
    "  2.sort()\n",
    "  3.copy()\n",
    "  4.count()\n",
    "  6.index()"
   ]
  },
  {
   "cell_type": "code",
   "execution_count": 10,
   "metadata": {},
   "outputs": [],
   "source": [
    "\n",
    "tvshows=[]#empty list\n",
    "tvshows.append('Doraemon')\n",
    "tvshows.append('Chota bheem')\n",
    "tvshows.append('Ben 10')\n",
    "\n",
    "\n",
    "\n",
    "\n"
   ]
  },
  {
   "cell_type": "code",
   "execution_count": 11,
   "metadata": {},
   "outputs": [],
   "source": [
    "show=input('enter a show name:')\n",
    "tvshows.append(show)\n"
   ]
  },
  {
   "cell_type": "code",
   "execution_count": 12,
   "metadata": {},
   "outputs": [
    {
     "name": "stdout",
     "output_type": "stream",
     "text": [
      "['Doraemon', 'Chota bheem', 'Ben 10', 'shinchan']\n"
     ]
    }
   ],
   "source": [
    "print(tvshows)"
   ]
  },
  {
   "cell_type": "code",
   "execution_count": 13,
   "metadata": {},
   "outputs": [
    {
     "name": "stdout",
     "output_type": "stream",
     "text": [
      "['Doraemon', 'the office', 'Chota bheem', 'Ben 10', 'friends', 'shinchan']\n"
     ]
    }
   ],
   "source": [
    "tvshows.insert(1,'the office')\n",
    "tvshows.insert(4,'friends')\n",
    "print(tvshows)"
   ]
  },
  {
   "cell_type": "code",
   "execution_count": 14,
   "metadata": {},
   "outputs": [],
   "source": [
    "user_show=input('enter your favorite shows separated by commas: ')\n",
    "user_show=user_show.split(',')"
   ]
  },
  {
   "cell_type": "code",
   "execution_count": 15,
   "metadata": {},
   "outputs": [
    {
     "name": "stdout",
     "output_type": "stream",
     "text": [
      "['Doraemon', 'the office', 'Chota bheem', 'Ben 10', 'friends', 'shinchan', 'our planet', 'breaking bad', 'mob psycho', 'trese']\n"
     ]
    }
   ],
   "source": [
    "tvshows.extend(user_show)\n",
    "print(tvshows)"
   ]
  },
  {
   "cell_type": "code",
   "execution_count": 18,
   "metadata": {},
   "outputs": [
    {
     "name": "stdout",
     "output_type": "stream",
     "text": [
      "['Doraemon', 'the office', 'Chota bheem', 'Ben 10', 'friends', 'shinchan', 'breaking bad', 'mob psycho', 'trese']\n"
     ]
    }
   ],
   "source": [
    "if 'our planet' in tvshows:#for remove use condition\n",
    "    tvshows.remove('our planet')\n",
    "print(tvshows)"
   ]
  },
  {
   "cell_type": "code",
   "execution_count": 19,
   "metadata": {},
   "outputs": [
    {
     "data": {
      "text/plain": [
       "'Chota bheem'"
      ]
     },
     "execution_count": 19,
     "metadata": {},
     "output_type": "execute_result"
    }
   ],
   "source": [
    "tvshows.pop(2)"
   ]
  },
  {
   "cell_type": "code",
   "execution_count": 20,
   "metadata": {},
   "outputs": [
    {
     "name": "stdout",
     "output_type": "stream",
     "text": [
      "['Doraemon', 'the office', 'Ben 10', 'friends', 'shinchan', 'breaking bad', 'mob psycho', 'trese']\n"
     ]
    }
   ],
   "source": [
    "print(tvshows)"
   ]
  },
  {
   "cell_type": "code",
   "execution_count": 21,
   "metadata": {},
   "outputs": [
    {
     "name": "stdout",
     "output_type": "stream",
     "text": [
      "[4, 3, 34, 4, 43, 43, 43, 3, 34, 4, 43, 343, 4, 44, 6566, 5, 45, 4, 3, 2, 3, 1]\n"
     ]
    }
   ],
   "source": [
    "x=[1,3,2,3,4,45,5,6566,44,4,343,43,4,34,3,43,43,43,4,34,3,4]\n",
    "x.reverse()\n",
    "print(x)"
   ]
  },
  {
   "cell_type": "code",
   "execution_count": 22,
   "metadata": {},
   "outputs": [
    {
     "name": "stdout",
     "output_type": "stream",
     "text": [
      "[1, 3, 2, 3, 4, 45, 5, 6566, 44, 4, 343, 43, 4, 34, 3, 43, 43, 43, 4, 34, 3, 4]\n"
     ]
    }
   ],
   "source": [
    "x.reverse()\n",
    "print(x)"
   ]
  },
  {
   "cell_type": "code",
   "execution_count": 23,
   "metadata": {},
   "outputs": [
    {
     "name": "stdout",
     "output_type": "stream",
     "text": [
      "[1, 2, 3, 3, 3, 3, 4, 4, 4, 4, 4, 5, 34, 34, 43, 43, 43, 43, 44, 45, 343, 6566]\n"
     ]
    }
   ],
   "source": [
    "x.sort()\n",
    "print(x)"
   ]
  },
  {
   "cell_type": "code",
   "execution_count": 24,
   "metadata": {},
   "outputs": [
    {
     "name": "stdout",
     "output_type": "stream",
     "text": [
      "[6566, 343, 45, 44, 43, 43, 43, 43, 34, 34, 5, 4, 4, 4, 4, 4, 3, 3, 3, 3, 2, 1]\n"
     ]
    }
   ],
   "source": [
    "x.sort(reverse=True)\n",
    "print(x)"
   ]
  },
  {
   "cell_type": "code",
   "execution_count": 25,
   "metadata": {},
   "outputs": [
    {
     "data": {
      "text/plain": [
       "4"
      ]
     },
     "execution_count": 25,
     "metadata": {},
     "output_type": "execute_result"
    }
   ],
   "source": [
    "x.count(3)"
   ]
  },
  {
   "cell_type": "code",
   "execution_count": 26,
   "metadata": {},
   "outputs": [
    {
     "data": {
      "text/plain": [
       "4"
      ]
     },
     "execution_count": 26,
     "metadata": {},
     "output_type": "execute_result"
    }
   ],
   "source": [
    "x.index(43)"
   ]
  },
  {
   "cell_type": "code",
   "execution_count": 28,
   "metadata": {},
   "outputs": [
    {
     "name": "stdout",
     "output_type": "stream",
     "text": [
      "[1, 3, 2, 5, 4, 34, 434, 4, 4, 34, 3, 434, 34, 34, 43, 43, 43]\n"
     ]
    }
   ],
   "source": [
    "x=[1,3,2,5,4,34,434,4,4,34,3,434,34,34,43,43,43,]\n",
    "print(x)"
   ]
  },
  {
   "cell_type": "code",
   "execution_count": 29,
   "metadata": {},
   "outputs": [
    {
     "name": "stdout",
     "output_type": "stream",
     "text": [
      "4\n",
      "7\n",
      "8\n"
     ]
    }
   ],
   "source": [
    "start=0\n",
    "for i in range(x.count(4)):\n",
    "    pos=x.index(4,start)\n",
    "    start=pos+1\n",
    "    print(pos)"
   ]
  },
  {
   "cell_type": "code",
   "execution_count": null,
   "metadata": {},
   "outputs": [],
   "source": []
  }
 ],
 "metadata": {
  "kernelspec": {
   "display_name": "Python 3",
   "language": "python",
   "name": "python3"
  },
  "language_info": {
   "codemirror_mode": {
    "name": "ipython",
    "version": 3
   },
   "file_extension": ".py",
   "mimetype": "text/x-python",
   "name": "python",
   "nbconvert_exporter": "python",
   "pygments_lexer": "ipython3",
   "version": "3.10.11"
  },
  "orig_nbformat": 4
 },
 "nbformat": 4,
 "nbformat_minor": 2
}
