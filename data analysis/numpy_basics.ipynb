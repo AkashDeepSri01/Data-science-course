{
 "cells": [
  {
   "cell_type": "markdown",
   "metadata": {},
   "source": [
    "importing"
   ]
  },
  {
   "cell_type": "code",
   "execution_count": 13,
   "metadata": {},
   "outputs": [],
   "source": [
    "import numpy as np"
   ]
  },
  {
   "cell_type": "code",
   "execution_count": 14,
   "metadata": {},
   "outputs": [],
   "source": [
    "#set precision\n",
    "np.set_printoptions(precision=2)"
   ]
  },
  {
   "cell_type": "markdown",
   "metadata": {},
   "source": [
    "creating matrix"
   ]
  },
  {
   "cell_type": "code",
   "execution_count": 15,
   "metadata": {},
   "outputs": [
    {
     "name": "stdout",
     "output_type": "stream",
     "text": [
      "[2 5 6]\n",
      "(3,)\n",
      "int32\n"
     ]
    }
   ],
   "source": [
    "a=np.array([2,5,6])\n",
    "print(a)\n",
    "print(a.shape)\n",
    "print(a.dtype)"
   ]
  },
  {
   "cell_type": "code",
   "execution_count": 16,
   "metadata": {},
   "outputs": [
    {
     "name": "stdout",
     "output_type": "stream",
     "text": [
      "[[1 2 3]\n",
      " [4 5 6]]\n",
      "(2, 3)\n",
      "2\n"
     ]
    }
   ],
   "source": [
    "b=np.array(([1,2,3],[4,5,6]))\n",
    "print(b)\n",
    "print(b.shape)\n",
    "print(b.ndim)"
   ]
  },
  {
   "cell_type": "code",
   "execution_count": 17,
   "metadata": {},
   "outputs": [
    {
     "name": "stdout",
     "output_type": "stream",
     "text": [
      "[[[1 2]\n",
      "  [2 3]\n",
      "  [3 1]]\n",
      "\n",
      " [[1 2]\n",
      "  [3 1]\n",
      "  [3 4]]]\n",
      "(2, 3, 2)\n",
      "3\n"
     ]
    }
   ],
   "source": [
    "c=np.array([[[1,2],[2,3],[3,1]],[[1,2],[3,1],[3,4]]])\n",
    "print(c)\n",
    "print(c.shape)\n",
    "print(c.ndim)"
   ]
  },
  {
   "cell_type": "markdown",
   "metadata": {},
   "source": [
    ".generate matrix\n",
    "  -linear\n",
    "  -random"
   ]
  },
  {
   "cell_type": "code",
   "execution_count": 18,
   "metadata": {},
   "outputs": [
    {
     "data": {
      "text/plain": [
       "array([ 0,  5, 10, 15, 20, 25, 30, 35, 40, 45, 50, 55, 60, 65, 70, 75, 80,\n",
       "       85, 90, 95])"
      ]
     },
     "execution_count": 18,
     "metadata": {},
     "output_type": "execute_result"
    }
   ],
   "source": [
    "np.arange(0,100,5)"
   ]
  },
  {
   "cell_type": "code",
   "execution_count": 19,
   "metadata": {},
   "outputs": [
    {
     "name": "stdout",
     "output_type": "stream",
     "text": [
      "[-3.14 -2.89 -2.64 -2.39 -2.14 -1.89 -1.64 -1.39 -1.14 -0.89 -0.64 -0.39\n",
      " -0.14  0.11  0.36  0.61  0.86  1.11  1.36  1.61  1.86  2.11  2.36  2.61\n",
      "  2.86  3.11]\n"
     ]
    },
    {
     "data": {
      "text/plain": [
       "26"
      ]
     },
     "execution_count": 19,
     "metadata": {},
     "output_type": "execute_result"
    }
   ],
   "source": [
    "a=np.arange(-np.pi,np.pi,.25)\n",
    "print(a)\n",
    "a.size"
   ]
  },
  {
   "cell_type": "code",
   "execution_count": 20,
   "metadata": {},
   "outputs": [
    {
     "name": "stdout",
     "output_type": "stream",
     "text": [
      "[ 1.    1.09  1.18  1.27  1.36  1.45  1.55  1.64  1.73  1.82  1.91  2.\n",
      "  2.09  2.18  2.27  2.36  2.45  2.55  2.64  2.73  2.82  2.91  3.    3.09\n",
      "  3.18  3.27  3.36  3.45  3.55  3.64  3.73  3.82  3.91  4.    4.09  4.18\n",
      "  4.27  4.36  4.45  4.55  4.64  4.73  4.82  4.91  5.    5.09  5.18  5.27\n",
      "  5.36  5.45  5.55  5.64  5.73  5.82  5.91  6.    6.09  6.18  6.27  6.36\n",
      "  6.45  6.55  6.64  6.73  6.82  6.91  7.    7.09  7.18  7.27  7.36  7.45\n",
      "  7.55  7.64  7.73  7.82  7.91  8.    8.09  8.18  8.27  8.36  8.45  8.55\n",
      "  8.64  8.73  8.82  8.91  9.    9.09  9.18  9.27  9.36  9.45  9.55  9.64\n",
      "  9.73  9.82  9.91 10.  ]\n"
     ]
    },
    {
     "data": {
      "text/plain": [
       "100"
      ]
     },
     "execution_count": 20,
     "metadata": {},
     "output_type": "execute_result"
    }
   ],
   "source": [
    "b=np.linspace(1,10,100)\n",
    "print(b)\n",
    "b.size"
   ]
  },
  {
   "cell_type": "code",
   "execution_count": 21,
   "metadata": {},
   "outputs": [
    {
     "data": {
      "text/plain": [
       "array([[ 1.  ,  1.09,  1.18,  1.27],\n",
       "       [ 1.36,  1.45,  1.55,  1.64],\n",
       "       [ 1.73,  1.82,  1.91,  2.  ],\n",
       "       [ 2.09,  2.18,  2.27,  2.36],\n",
       "       [ 2.45,  2.55,  2.64,  2.73],\n",
       "       [ 2.82,  2.91,  3.  ,  3.09],\n",
       "       [ 3.18,  3.27,  3.36,  3.45],\n",
       "       [ 3.55,  3.64,  3.73,  3.82],\n",
       "       [ 3.91,  4.  ,  4.09,  4.18],\n",
       "       [ 4.27,  4.36,  4.45,  4.55],\n",
       "       [ 4.64,  4.73,  4.82,  4.91],\n",
       "       [ 5.  ,  5.09,  5.18,  5.27],\n",
       "       [ 5.36,  5.45,  5.55,  5.64],\n",
       "       [ 5.73,  5.82,  5.91,  6.  ],\n",
       "       [ 6.09,  6.18,  6.27,  6.36],\n",
       "       [ 6.45,  6.55,  6.64,  6.73],\n",
       "       [ 6.82,  6.91,  7.  ,  7.09],\n",
       "       [ 7.18,  7.27,  7.36,  7.45],\n",
       "       [ 7.55,  7.64,  7.73,  7.82],\n",
       "       [ 7.91,  8.  ,  8.09,  8.18],\n",
       "       [ 8.27,  8.36,  8.45,  8.55],\n",
       "       [ 8.64,  8.73,  8.82,  8.91],\n",
       "       [ 9.  ,  9.09,  9.18,  9.27],\n",
       "       [ 9.36,  9.45,  9.55,  9.64],\n",
       "       [ 9.73,  9.82,  9.91, 10.  ]])"
      ]
     },
     "execution_count": 21,
     "metadata": {},
     "output_type": "execute_result"
    }
   ],
   "source": [
    "b.reshape(25,4)"
   ]
  },
  {
   "cell_type": "code",
   "execution_count": 22,
   "metadata": {},
   "outputs": [
    {
     "data": {
      "text/plain": [
       "array([[[ 1.  ,  1.09,  1.18,  1.27],\n",
       "        [ 1.36,  1.45,  1.55,  1.64],\n",
       "        [ 1.73,  1.82,  1.91,  2.  ],\n",
       "        [ 2.09,  2.18,  2.27,  2.36],\n",
       "        [ 2.45,  2.55,  2.64,  2.73]],\n",
       "\n",
       "       [[ 2.82,  2.91,  3.  ,  3.09],\n",
       "        [ 3.18,  3.27,  3.36,  3.45],\n",
       "        [ 3.55,  3.64,  3.73,  3.82],\n",
       "        [ 3.91,  4.  ,  4.09,  4.18],\n",
       "        [ 4.27,  4.36,  4.45,  4.55]],\n",
       "\n",
       "       [[ 4.64,  4.73,  4.82,  4.91],\n",
       "        [ 5.  ,  5.09,  5.18,  5.27],\n",
       "        [ 5.36,  5.45,  5.55,  5.64],\n",
       "        [ 5.73,  5.82,  5.91,  6.  ],\n",
       "        [ 6.09,  6.18,  6.27,  6.36]],\n",
       "\n",
       "       [[ 6.45,  6.55,  6.64,  6.73],\n",
       "        [ 6.82,  6.91,  7.  ,  7.09],\n",
       "        [ 7.18,  7.27,  7.36,  7.45],\n",
       "        [ 7.55,  7.64,  7.73,  7.82],\n",
       "        [ 7.91,  8.  ,  8.09,  8.18]],\n",
       "\n",
       "       [[ 8.27,  8.36,  8.45,  8.55],\n",
       "        [ 8.64,  8.73,  8.82,  8.91],\n",
       "        [ 9.  ,  9.09,  9.18,  9.27],\n",
       "        [ 9.36,  9.45,  9.55,  9.64],\n",
       "        [ 9.73,  9.82,  9.91, 10.  ]]])"
      ]
     },
     "execution_count": 22,
     "metadata": {},
     "output_type": "execute_result"
    }
   ],
   "source": [
    "b.reshape(5,5,4)"
   ]
  },
  {
   "cell_type": "code",
   "execution_count": 24,
   "metadata": {},
   "outputs": [
    {
     "data": {
      "text/plain": [
       "array([[0.54, 0.73, 0.19],\n",
       "       [0.61, 0.64, 0.31],\n",
       "       [0.45, 0.96, 0.54]])"
      ]
     },
     "execution_count": 24,
     "metadata": {},
     "output_type": "execute_result"
    }
   ],
   "source": [
    "np.random.rand(3,3)"
   ]
  },
  {
   "cell_type": "code",
   "execution_count": 25,
   "metadata": {},
   "outputs": [
    {
     "data": {
      "text/plain": [
       "array([[-0.61,  1.21, -0.54],\n",
       "       [-0.7 ,  0.54,  0.05],\n",
       "       [ 0.31,  0.07, -0.07]])"
      ]
     },
     "execution_count": 25,
     "metadata": {},
     "output_type": "execute_result"
    }
   ],
   "source": [
    "np.random.randn(3,3)"
   ]
  },
  {
   "cell_type": "code",
   "execution_count": 26,
   "metadata": {},
   "outputs": [
    {
     "name": "stdout",
     "output_type": "stream",
     "text": [
      "[[23  9 41]\n",
      " [27 34 62]\n",
      " [29 45 53]\n",
      " [ 1 47 82]\n",
      " [99 39 72]]\n"
     ]
    }
   ],
   "source": [
    "print(np.random.randint(1,100,(5,3)))"
   ]
  },
  {
   "cell_type": "code",
   "execution_count": 27,
   "metadata": {},
   "outputs": [
    {
     "name": "stdout",
     "output_type": "stream",
     "text": [
      "[[ 5 10  5]\n",
      " [ 9  1  1]\n",
      " [ 7  5  6]]\n",
      "[[ 3  4  8]\n",
      " [10 10 10]\n",
      " [ 3  6  9]]\n"
     ]
    }
   ],
   "source": [
    "x=np.random.randint(1,11,(3,3))\n",
    "y=np.random.randint(1,11,(3,3))\n",
    "print(x)\n",
    "print(y)"
   ]
  },
  {
   "cell_type": "code",
   "execution_count": 28,
   "metadata": {},
   "outputs": [
    {
     "data": {
      "text/plain": [
       "array([[ 8, 14, 13],\n",
       "       [19, 11, 11],\n",
       "       [10, 11, 15]])"
      ]
     },
     "execution_count": 28,
     "metadata": {},
     "output_type": "execute_result"
    }
   ],
   "source": [
    "x+y"
   ]
  },
  {
   "cell_type": "code",
   "execution_count": 29,
   "metadata": {},
   "outputs": [
    {
     "data": {
      "text/plain": [
       "array([[ 2,  6, -3],\n",
       "       [-1, -9, -9],\n",
       "       [ 4, -1, -3]])"
      ]
     },
     "execution_count": 29,
     "metadata": {},
     "output_type": "execute_result"
    }
   ],
   "source": [
    "x -y"
   ]
  },
  {
   "cell_type": "code",
   "execution_count": null,
   "metadata": {},
   "outputs": [],
   "source": []
  }
 ],
 "metadata": {
  "kernelspec": {
   "display_name": "Python 3",
   "language": "python",
   "name": "python3"
  },
  "language_info": {
   "codemirror_mode": {
    "name": "ipython",
    "version": 3
   },
   "file_extension": ".py",
   "mimetype": "text/x-python",
   "name": "python",
   "nbconvert_exporter": "python",
   "pygments_lexer": "ipython3",
   "version": "3.10.10"
  },
  "orig_nbformat": 4
 },
 "nbformat": 4,
 "nbformat_minor": 2
}
