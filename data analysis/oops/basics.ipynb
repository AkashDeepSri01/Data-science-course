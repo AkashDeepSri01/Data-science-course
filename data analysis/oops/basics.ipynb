{
 "cells": [
  {
   "cell_type": "markdown",
   "metadata": {},
   "source": [
    "#oops\n",
    " -classes\n",
    " -objects\n",
    " -method\n",
    "   -constructor\n",
    "   -instance method\n",
    "-inheritance\n",
    "-multiple inheritence\n",
    "-data class\n",
    "-operator overloading"
   ]
  },
  {
   "cell_type": "markdown",
   "metadata": {},
   "source": [
    "   \n"
   ]
  },
  {
   "cell_type": "code",
   "execution_count": 31,
   "metadata": {},
   "outputs": [],
   "source": [
    "class conversation:\n",
    "    name=\"\"\n",
    "    message=\"\"\n",
    "    def show(self):\n",
    "        print(\"Name:\", self.name)\n",
    "        print('message:',self.message)"
   ]
  },
  {
   "cell_type": "code",
   "execution_count": 32,
   "metadata": {},
   "outputs": [
    {
     "name": "stdout",
     "output_type": "stream",
     "text": [
      "<__main__.conversation object at 0x0000025187E5E920> <__main__.conversation object at 0x0000025189182E60>\n"
     ]
    }
   ],
   "source": [
    "c1=conversation()\n",
    "c2=conversation()\n",
    "c3=conversation()\n",
    "print(c1,c2)"
   ]
  },
  {
   "cell_type": "code",
   "execution_count": 33,
   "metadata": {},
   "outputs": [],
   "source": [
    "c1.name='Akash'\n",
    "c1.message='Hi'\n",
    "c2.name='Pankaj'\n",
    "c2.message='Hello'\n",
    "c3.name='Gaurav'\n",
    "c3.message='Hello bro'"
   ]
  },
  {
   "cell_type": "code",
   "execution_count": 34,
   "metadata": {},
   "outputs": [
    {
     "name": "stdout",
     "output_type": "stream",
     "text": [
      "Name: Akash\n",
      "message: Hi\n",
      "Name: Pankaj\n",
      "message: Hello\n",
      "Name: Gaurav\n",
      "message: Hello bro\n"
     ]
    }
   ],
   "source": [
    "c1.show()\n",
    "c2.show()\n",
    "c3.show()"
   ]
  },
  {
   "cell_type": "code",
   "execution_count": 35,
   "metadata": {},
   "outputs": [],
   "source": [
    "class cat:\n",
    "    def __init__(self,breed,color,age,gender,type='pet'):\n",
    "        self.breed=breed\n",
    "        self.color=color\n",
    "        self.age=age\n",
    "        self.gender=gender\n",
    "        self.type=type\n",
    "        self.is_hungry= True\n",
    "    def info(self):\n",
    "        print(f'breed:{self.breed}')\n",
    "        print(f'color:{self.color}')\n",
    "        print(f'age:{self.age}')\n",
    "        print(f'gender:{self.gender}')\n",
    "        print(f'type:{self.type}')\n",
    "        print(f'Is hungry:{\"yes\" if self.is_hungry else \"no\"}')\n",
    "            "
   ]
  },
  {
   "cell_type": "code",
   "execution_count": 36,
   "metadata": {},
   "outputs": [],
   "source": [
    "tom=cat('idk','grey',100,'male')\n",
    "snowbell=cat('persian','white',3,'female')\n",
    "blacky=cat('street cat','black',4,'male','stray')"
   ]
  },
  {
   "cell_type": "code",
   "execution_count": 37,
   "metadata": {},
   "outputs": [],
   "source": [
    "blacky.is_hungry=False"
   ]
  },
  {
   "cell_type": "code",
   "execution_count": 38,
   "metadata": {},
   "outputs": [
    {
     "name": "stdout",
     "output_type": "stream",
     "text": [
      "🐈\n",
      "breed:idk\n",
      "color:grey\n",
      "age:100\n",
      "gender:male\n",
      "type:pet\n",
      "Is hungry:yes\n",
      "🐈\n",
      "breed:persian\n",
      "color:white\n",
      "age:3\n",
      "gender:female\n",
      "type:pet\n",
      "Is hungry:yes\n",
      "🐈\n",
      "breed:street cat\n",
      "color:black\n",
      "age:4\n",
      "gender:male\n",
      "type:stray\n",
      "Is hungry:no\n"
     ]
    }
   ],
   "source": [
    "print('🐈')\n",
    "tom.info()\n",
    "print('🐈')\n",
    "snowbell.info()\n",
    "print('🐈')\n",
    "blacky.info()"
   ]
  },
  {
   "cell_type": "code",
   "execution_count": 39,
   "metadata": {},
   "outputs": [],
   "source": [
    "class Listx(list):\n",
    "    def filter(self,dtype='int'):\n",
    "        if dtype=='int':\n",
    "            for item in self:\n",
    "                if isinstance(item,int):\n",
    "                    yield item\n",
    "        if dtype=='str':\n",
    "            for item in self:\n",
    "                if isinstance(item,str):\n",
    "                    yield item\n",
    "        if dtype=='list':\n",
    "            for item in self:\n",
    "                if isinstance(item,list):\n",
    "                    yield item                                \n",
    "\n"
   ]
  },
  {
   "cell_type": "code",
   "execution_count": 40,
   "metadata": {},
   "outputs": [
    {
     "data": {
      "text/plain": [
       "[1, 2, 3, 4, 5]"
      ]
     },
     "execution_count": 40,
     "metadata": {},
     "output_type": "execute_result"
    }
   ],
   "source": [
    "x=Listx([1,2,3,4,5,'a','b','c'])\n",
    "list(x.filter())\n"
   ]
  },
  {
   "cell_type": "code",
   "execution_count": 41,
   "metadata": {},
   "outputs": [
    {
     "data": {
      "text/plain": [
       "['a', 'b', 'c']"
      ]
     },
     "execution_count": 41,
     "metadata": {},
     "output_type": "execute_result"
    }
   ],
   "source": [
    "list(x.filter('str'))"
   ]
  },
  {
   "cell_type": "code",
   "execution_count": 42,
   "metadata": {},
   "outputs": [
    {
     "data": {
      "text/plain": [
       "[[1, 2, 3], [5, 6, 3]]"
      ]
     },
     "execution_count": 42,
     "metadata": {},
     "output_type": "execute_result"
    }
   ],
   "source": [
    "x=Listx([[1,2,3],[5,6,3],'hello',1,2,3])\n",
    "list(x.filter('list'))"
   ]
  },
  {
   "cell_type": "code",
   "execution_count": 43,
   "metadata": {},
   "outputs": [],
   "source": [
    "from dataclasses import dataclass\n",
    "\n",
    "@dataclass\n",
    "class conversation:\n",
    "    name:str\n",
    "    message:str\n",
    "    time:str\n",
    "    profile_pic:str\n",
    "    status:str='sent'\n",
    "    is_group:bool='False'\n",
    "    is_mute:bool=False\n",
    "\n"
   ]
  },
  {
   "cell_type": "code",
   "execution_count": 44,
   "metadata": {},
   "outputs": [],
   "source": [
    "c1=conversation('Raj','Hello','10:00','raj.jpg')\n",
    "c2=conversation('Ashish', 'Hi there! How are you?', '9:35','ashish.png')\n",
    "c3=conversation('Rahul', \"I'm fine, how about you?\",'8:47','rahul.jpg')\n",
    "c4=conversation(\"Shubham\", \"Good to hear that.\",'6:30','shubham.jpg')"
   ]
  },
  {
   "cell_type": "code",
   "execution_count": 45,
   "metadata": {},
   "outputs": [
    {
     "name": "stdout",
     "output_type": "stream",
     "text": [
      "conversation(name='Raj', message='Hello', time='10:00', profile_pic='raj.jpg', status='sent', is_group='False', is_mute=False)\n"
     ]
    }
   ],
   "source": [
    "print(c1)"
   ]
  },
  {
   "cell_type": "code",
   "execution_count": 46,
   "metadata": {},
   "outputs": [],
   "source": [
    "class Person:\n",
    "    def __init__(self, name,age):\n",
    "        self.name = name\n",
    "        self.age = age\n",
    "    def __str__(self):\n",
    "        return self.name\n",
    "    #representation function\n",
    "    def __repr__(self):\n",
    "        return f'person({self.name})'\n",
    "    #greater than operator overloading\n",
    "    def __gt__(self,other):\n",
    "        if isinstance(other,Person):\n",
    "            return self.age>other.age\n",
    "        else:\n",
    "            raise TypeError('Invalid type')\n",
    "            "
   ]
  },
  {
   "cell_type": "code",
   "execution_count": 47,
   "metadata": {},
   "outputs": [],
   "source": [
    "p1=Person('Raj',20)\n",
    "p2=Person('Rohan',22)\n",
    "p3=Person('Rahul',21)"
   ]
  },
  {
   "cell_type": "code",
   "execution_count": 48,
   "metadata": {},
   "outputs": [
    {
     "name": "stdout",
     "output_type": "stream",
     "text": [
      "Raj Rohan Rahul\n"
     ]
    }
   ],
   "source": [
    "print(p1,p2,p3)"
   ]
  },
  {
   "cell_type": "code",
   "execution_count": 49,
   "metadata": {},
   "outputs": [
    {
     "data": {
      "text/plain": [
       "False"
      ]
     },
     "execution_count": 49,
     "metadata": {},
     "output_type": "execute_result"
    }
   ],
   "source": [
    "p1>p2"
   ]
  },
  {
   "cell_type": "code",
   "execution_count": 51,
   "metadata": {},
   "outputs": [],
   "source": [
    "x=[p1,p3,p2,p2]\n",
    "x.sort()"
   ]
  },
  {
   "cell_type": "code",
   "execution_count": 52,
   "metadata": {},
   "outputs": [
    {
     "data": {
      "text/plain": [
       "[person(Raj), person(Rahul), person(Rohan), person(Rohan)]"
      ]
     },
     "execution_count": 52,
     "metadata": {},
     "output_type": "execute_result"
    }
   ],
   "source": [
    "x"
   ]
  },
  {
   "cell_type": "code",
   "execution_count": 62,
   "metadata": {},
   "outputs": [
    {
     "name": "stdout",
     "output_type": "stream",
     "text": [
      "Name: Rahul\n",
      "Language: Python\n",
      "Level: 1\n",
      "Playing Type: Bowler\n",
      "Cuisine: Italian\n",
      "Name: Raj\n",
      "Language: Java\n",
      "Level: 1\n",
      "Playing Type: Batsman\n",
      "Cuisine: Indian\n"
     ]
    }
   ],
   "source": [
    "# multiple inheritance\n",
    "\n",
    "class Coder:\n",
    "    def __init__(self, language, level=1):\n",
    "        self.language = language\n",
    "        self.level = level\n",
    "\n",
    "    def info(self):\n",
    "        print(f'Language: {self.language}')\n",
    "        print(f'Level: {self.level}')\n",
    "\n",
    "class Criketer:\n",
    "    def __init__(self, type='Batsman'):\n",
    "        self.type = type\n",
    "\n",
    "class Chef:\n",
    "    def __init__(self, cuisine='Indian'):\n",
    "        self.cuisine = cuisine\n",
    "    \n",
    "    def info(self):\n",
    "        print(f'Cuisine: {self.cuisine}')\n",
    "\n",
    "class SkilledPerson(Coder, Criketer, Chef):\n",
    "    def __init__(self, name,language, playingType, cuisine, langlevel=1):\n",
    "        Coder.__init__(self, language, langlevel)\n",
    "        Criketer.__init__(self, playingType)\n",
    "        Chef.__init__(self, cuisine)\n",
    "        self.name = name\n",
    "    \n",
    "    # method overriding\n",
    "    def info(self):\n",
    "        print(f'Name: {self.name}')\n",
    "        Coder.info(self)\n",
    "        print(f'Playing Type: {self.type}')\n",
    "        Chef.info(self)\n",
    "\n",
    "s1 = SkilledPerson('Rahul', 'Python', 'Bowler', 'Italian')\n",
    "s2 = SkilledPerson('Raj', 'Java', 'Batsman', 'Indian')\n",
    "s1.info()\n",
    "s2.info()"
   ]
  },
  {
   "cell_type": "code",
   "execution_count": null,
   "metadata": {},
   "outputs": [],
   "source": []
  }
 ],
 "metadata": {
  "kernelspec": {
   "display_name": "base",
   "language": "python",
   "name": "python3"
  },
  "language_info": {
   "codemirror_mode": {
    "name": "ipython",
    "version": 3
   },
   "file_extension": ".py",
   "mimetype": "text/x-python",
   "name": "python",
   "nbconvert_exporter": "python",
   "pygments_lexer": "ipython3",
   "version": "3.10.10"
  },
  "orig_nbformat": 4
 },
 "nbformat": 4,
 "nbformat_minor": 2
}
